{
 "cells": [
  {
   "cell_type": "code",
   "execution_count": 1,
   "metadata": {},
   "outputs": [],
   "source": [
    "import json\n",
    "file = open('review_train.json','r')\n",
    "a = file.readlines()\n",
    "file.close()\n",
    "len(a)\n",
    "a0 = a[0]\n",
    "a0 = json.loads(a0)"
   ]
  },
  {
   "cell_type": "markdown",
   "metadata": {},
   "source": [
    "In 'review_train.json' file,there are 5364626 yelp data and it has 4 variables: 'business_id', 'stars', 'text', 'date'."
   ]
  },
  {
   "cell_type": "code",
   "execution_count": 2,
   "metadata": {},
   "outputs": [],
   "source": [
    "file2 = open('review_test.json','r')\n",
    "b = file2.readlines()\n",
    "file2.close()\n",
    "len(b)\n",
    "b0 = b[0]\n",
    "b0 = json.loads(b0)"
   ]
  },
  {
   "cell_type": "markdown",
   "metadata": {},
   "source": [
    "In 'review_test.json' file,there are 1321274 yelp data and it has 5 variables: 'business_id', 'stars', 'text', 'date', 'KaggleID'."
   ]
  },
  {
   "cell_type": "code",
   "execution_count": 3,
   "metadata": {},
   "outputs": [],
   "source": [
    "file3 = open('business_train.json','r')\n",
    "c = file3.readlines()\n",
    "file3.close()\n",
    "len(c)\n",
    "c0 = c[0]\n",
    "c0 = json.loads(c0)"
   ]
  },
  {
   "cell_type": "markdown",
   "metadata": {},
   "source": [
    "In 'review_test.json' file,there are 154606 yelp data and it has 11 variables: 'business_id', 'name', 'city', 'state', 'postal_code', 'latitude', 'longitude', 'is_open', 'attributes', 'categories', 'hours'."
   ]
  },
  {
   "cell_type": "code",
   "execution_count": 4,
   "metadata": {},
   "outputs": [],
   "source": [
    "file4 = open('business_test.json','r')\n",
    "d = file4.readlines()\n",
    "file4.close()\n",
    "len(d)\n",
    "d0 = d[0]\n",
    "d0 = json.loads(d0)"
   ]
  },
  {
   "cell_type": "markdown",
   "metadata": {},
   "source": [
    "In 'business_test.json' file,there are 38000 yelp data and it has 11 variables: 'business_id', 'name', 'city', 'state', 'postal_code', 'latitude', 'longitude', 'is_open', 'attributes', 'categories', 'hours'."
   ]
  },
  {
   "cell_type": "code",
   "execution_count": 7,
   "metadata": {},
   "outputs": [],
   "source": [
    "#a=a[:100]"
   ]
  },
  {
   "cell_type": "code",
   "execution_count": 5,
   "metadata": {},
   "outputs": [],
   "source": [
    "import pandas as pd"
   ]
  },
  {
   "cell_type": "code",
   "execution_count": 6,
   "metadata": {},
   "outputs": [],
   "source": [
    "for i in range(len(a)):\n",
    "    a[i]=json.loads(a[i])"
   ]
  },
  {
   "cell_type": "code",
   "execution_count": 8,
   "metadata": {},
   "outputs": [],
   "source": [
    "for i in range(len(b)):\n",
    "    b[i]=json.loads(b[i])"
   ]
  },
  {
   "cell_type": "code",
   "execution_count": 9,
   "metadata": {},
   "outputs": [],
   "source": [
    "for i in range(len(c)):\n",
    "    c[i]=json.loads(c[i])"
   ]
  },
  {
   "cell_type": "code",
   "execution_count": 10,
   "metadata": {},
   "outputs": [],
   "source": [
    "for i in range(len(d)):\n",
    "    d[i]=json.loads(d[i])"
   ]
  },
  {
   "cell_type": "code",
   "execution_count": 7,
   "metadata": {},
   "outputs": [
    {
     "data": {
      "text/html": [
       "<div>\n",
       "<style scoped>\n",
       "    .dataframe tbody tr th:only-of-type {\n",
       "        vertical-align: middle;\n",
       "    }\n",
       "\n",
       "    .dataframe tbody tr th {\n",
       "        vertical-align: top;\n",
       "    }\n",
       "\n",
       "    .dataframe thead th {\n",
       "        text-align: right;\n",
       "    }\n",
       "</style>\n",
       "<table border=\"1\" class=\"dataframe\">\n",
       "  <thead>\n",
       "    <tr style=\"text-align: right;\">\n",
       "      <th></th>\n",
       "      <th>business_id</th>\n",
       "      <th>date</th>\n",
       "      <th>stars</th>\n",
       "      <th>text</th>\n",
       "    </tr>\n",
       "  </thead>\n",
       "  <tbody>\n",
       "    <tr>\n",
       "      <th>0</th>\n",
       "      <td>31292</td>\n",
       "      <td>2013-05-07 04:34:36</td>\n",
       "      <td>1.0</td>\n",
       "      <td>Total bill for this horrible service? Over $8G...</td>\n",
       "    </tr>\n",
       "    <tr>\n",
       "      <th>1</th>\n",
       "      <td>35344</td>\n",
       "      <td>2017-01-14 21:30:33</td>\n",
       "      <td>5.0</td>\n",
       "      <td>I *adore* Travis at the Hard Rock's new Kelly ...</td>\n",
       "    </tr>\n",
       "    <tr>\n",
       "      <th>2</th>\n",
       "      <td>152538</td>\n",
       "      <td>2016-11-09 20:09:03</td>\n",
       "      <td>5.0</td>\n",
       "      <td>I have to say that this office really has it t...</td>\n",
       "    </tr>\n",
       "    <tr>\n",
       "      <th>3</th>\n",
       "      <td>71871</td>\n",
       "      <td>2018-01-09 20:56:38</td>\n",
       "      <td>5.0</td>\n",
       "      <td>Went in for a lunch. Steak sandwich was delici...</td>\n",
       "    </tr>\n",
       "    <tr>\n",
       "      <th>4</th>\n",
       "      <td>64913</td>\n",
       "      <td>2018-01-30 23:07:38</td>\n",
       "      <td>1.0</td>\n",
       "      <td>Today was my second out of three sessions I ha...</td>\n",
       "    </tr>\n",
       "  </tbody>\n",
       "</table>\n",
       "</div>"
      ],
      "text/plain": [
       "   business_id                 date  stars  \\\n",
       "0        31292  2013-05-07 04:34:36    1.0   \n",
       "1        35344  2017-01-14 21:30:33    5.0   \n",
       "2       152538  2016-11-09 20:09:03    5.0   \n",
       "3        71871  2018-01-09 20:56:38    5.0   \n",
       "4        64913  2018-01-30 23:07:38    1.0   \n",
       "\n",
       "                                                text  \n",
       "0  Total bill for this horrible service? Over $8G...  \n",
       "1  I *adore* Travis at the Hard Rock's new Kelly ...  \n",
       "2  I have to say that this office really has it t...  \n",
       "3  Went in for a lunch. Steak sandwich was delici...  \n",
       "4  Today was my second out of three sessions I ha...  "
      ]
     },
     "execution_count": 7,
     "metadata": {},
     "output_type": "execute_result"
    }
   ],
   "source": [
    "dfa = pd.DataFrame.from_records(a)\n",
    "dfa.head(5)"
   ]
  },
  {
   "cell_type": "code",
   "execution_count": 11,
   "metadata": {},
   "outputs": [
    {
     "data": {
      "text/html": [
       "<div>\n",
       "<style scoped>\n",
       "    .dataframe tbody tr th:only-of-type {\n",
       "        vertical-align: middle;\n",
       "    }\n",
       "\n",
       "    .dataframe tbody tr th {\n",
       "        vertical-align: top;\n",
       "    }\n",
       "\n",
       "    .dataframe thead th {\n",
       "        text-align: right;\n",
       "    }\n",
       "</style>\n",
       "<table border=\"1\" class=\"dataframe\">\n",
       "  <thead>\n",
       "    <tr style=\"text-align: right;\">\n",
       "      <th></th>\n",
       "      <th>KaggleID</th>\n",
       "      <th>business_id</th>\n",
       "      <th>date</th>\n",
       "      <th>text</th>\n",
       "    </tr>\n",
       "  </thead>\n",
       "  <tbody>\n",
       "    <tr>\n",
       "      <th>0</th>\n",
       "      <td>1</td>\n",
       "      <td>85246</td>\n",
       "      <td>2015-01-18 14:04:18</td>\n",
       "      <td>I was really looking forward to visiting after...</td>\n",
       "    </tr>\n",
       "    <tr>\n",
       "      <th>1</th>\n",
       "      <td>2</td>\n",
       "      <td>140371</td>\n",
       "      <td>2015-04-01 16:30:00</td>\n",
       "      <td>I love chinese food and I love mexican food. W...</td>\n",
       "    </tr>\n",
       "    <tr>\n",
       "      <th>2</th>\n",
       "      <td>3</td>\n",
       "      <td>148359</td>\n",
       "      <td>2017-03-27 01:14:37</td>\n",
       "      <td>Our family LOVES the food here. Quick, friendl...</td>\n",
       "    </tr>\n",
       "    <tr>\n",
       "      <th>3</th>\n",
       "      <td>4</td>\n",
       "      <td>133056</td>\n",
       "      <td>2017-05-13 10:41:43</td>\n",
       "      <td>If you are looking for the best pierogies in P...</td>\n",
       "    </tr>\n",
       "    <tr>\n",
       "      <th>4</th>\n",
       "      <td>5</td>\n",
       "      <td>121957</td>\n",
       "      <td>2012-11-06 03:41:43</td>\n",
       "      <td>Great food, great service. Obviously fried chi...</td>\n",
       "    </tr>\n",
       "  </tbody>\n",
       "</table>\n",
       "</div>"
      ],
      "text/plain": [
       "   KaggleID  business_id                 date  \\\n",
       "0         1        85246  2015-01-18 14:04:18   \n",
       "1         2       140371  2015-04-01 16:30:00   \n",
       "2         3       148359  2017-03-27 01:14:37   \n",
       "3         4       133056  2017-05-13 10:41:43   \n",
       "4         5       121957  2012-11-06 03:41:43   \n",
       "\n",
       "                                                text  \n",
       "0  I was really looking forward to visiting after...  \n",
       "1  I love chinese food and I love mexican food. W...  \n",
       "2  Our family LOVES the food here. Quick, friendl...  \n",
       "3  If you are looking for the best pierogies in P...  \n",
       "4  Great food, great service. Obviously fried chi...  "
      ]
     },
     "execution_count": 11,
     "metadata": {},
     "output_type": "execute_result"
    }
   ],
   "source": [
    "dfb = pd.DataFrame.from_records(b)\n",
    "dfb.head(5)"
   ]
  },
  {
   "cell_type": "code",
   "execution_count": 12,
   "metadata": {
    "scrolled": true
   },
   "outputs": [
    {
     "data": {
      "text/html": [
       "<div>\n",
       "<style scoped>\n",
       "    .dataframe tbody tr th:only-of-type {\n",
       "        vertical-align: middle;\n",
       "    }\n",
       "\n",
       "    .dataframe tbody tr th {\n",
       "        vertical-align: top;\n",
       "    }\n",
       "\n",
       "    .dataframe thead th {\n",
       "        text-align: right;\n",
       "    }\n",
       "</style>\n",
       "<table border=\"1\" class=\"dataframe\">\n",
       "  <thead>\n",
       "    <tr style=\"text-align: right;\">\n",
       "      <th></th>\n",
       "      <th>attributes</th>\n",
       "      <th>business_id</th>\n",
       "      <th>categories</th>\n",
       "      <th>city</th>\n",
       "      <th>hours</th>\n",
       "      <th>is_open</th>\n",
       "      <th>latitude</th>\n",
       "      <th>longitude</th>\n",
       "      <th>name</th>\n",
       "      <th>postal_code</th>\n",
       "      <th>state</th>\n",
       "    </tr>\n",
       "  </thead>\n",
       "  <tbody>\n",
       "    <tr>\n",
       "      <th>0</th>\n",
       "      <td>{'GoodForKids': 'False'}</td>\n",
       "      <td>3157</td>\n",
       "      <td>Golf, Active Life</td>\n",
       "      <td>Phoenix</td>\n",
       "      <td>None</td>\n",
       "      <td>0</td>\n",
       "      <td>33.522143</td>\n",
       "      <td>-112.018481</td>\n",
       "      <td>Arizona Biltmore Golf Club</td>\n",
       "      <td>85016</td>\n",
       "      <td>AZ</td>\n",
       "    </tr>\n",
       "    <tr>\n",
       "      <th>1</th>\n",
       "      <td>{'GoodForKids': 'True', 'NoiseLevel': 'u'avera...</td>\n",
       "      <td>23732</td>\n",
       "      <td>Sushi Bars, Restaurants, Japanese</td>\n",
       "      <td>Charlotte</td>\n",
       "      <td>{'Monday': '17:30-21:30', 'Wednesday': '17:30-...</td>\n",
       "      <td>1</td>\n",
       "      <td>35.092564</td>\n",
       "      <td>-80.859132</td>\n",
       "      <td>Musashi Japanese Restaurant</td>\n",
       "      <td>28210</td>\n",
       "      <td>NC</td>\n",
       "    </tr>\n",
       "    <tr>\n",
       "      <th>2</th>\n",
       "      <td>None</td>\n",
       "      <td>53580</td>\n",
       "      <td>Insurance, Financial Services</td>\n",
       "      <td>Goodyear</td>\n",
       "      <td>{'Monday': '8:0-17:0', 'Tuesday': '8:0-17:0', ...</td>\n",
       "      <td>1</td>\n",
       "      <td>33.455613</td>\n",
       "      <td>-112.395596</td>\n",
       "      <td>Farmers Insurance - Paul Lorenz</td>\n",
       "      <td>85338</td>\n",
       "      <td>AZ</td>\n",
       "    </tr>\n",
       "    <tr>\n",
       "      <th>3</th>\n",
       "      <td>{'BusinessAcceptsBitcoin': 'False', 'ByAppoint...</td>\n",
       "      <td>27909</td>\n",
       "      <td>Plumbing, Shopping, Local Services, Home Servi...</td>\n",
       "      <td>Charlotte</td>\n",
       "      <td>{'Monday': '7:0-23:0', 'Tuesday': '7:0-23:0', ...</td>\n",
       "      <td>1</td>\n",
       "      <td>35.190012</td>\n",
       "      <td>-80.887223</td>\n",
       "      <td>Queen City Plumbing</td>\n",
       "      <td>28217</td>\n",
       "      <td>NC</td>\n",
       "    </tr>\n",
       "    <tr>\n",
       "      <th>4</th>\n",
       "      <td>{'RestaurantsPriceRange2': '2', 'BusinessParki...</td>\n",
       "      <td>95694</td>\n",
       "      <td>Beauty &amp; Spas, Hair Salons</td>\n",
       "      <td>Calgary</td>\n",
       "      <td>None</td>\n",
       "      <td>1</td>\n",
       "      <td>50.943646</td>\n",
       "      <td>-114.001828</td>\n",
       "      <td>Edgeworxx Studio</td>\n",
       "      <td>T2Z 1K4</td>\n",
       "      <td>AB</td>\n",
       "    </tr>\n",
       "  </tbody>\n",
       "</table>\n",
       "</div>"
      ],
      "text/plain": [
       "                                          attributes  business_id  \\\n",
       "0                           {'GoodForKids': 'False'}         3157   \n",
       "1  {'GoodForKids': 'True', 'NoiseLevel': 'u'avera...        23732   \n",
       "2                                               None        53580   \n",
       "3  {'BusinessAcceptsBitcoin': 'False', 'ByAppoint...        27909   \n",
       "4  {'RestaurantsPriceRange2': '2', 'BusinessParki...        95694   \n",
       "\n",
       "                                          categories       city  \\\n",
       "0                                  Golf, Active Life    Phoenix   \n",
       "1                  Sushi Bars, Restaurants, Japanese  Charlotte   \n",
       "2                      Insurance, Financial Services   Goodyear   \n",
       "3  Plumbing, Shopping, Local Services, Home Servi...  Charlotte   \n",
       "4                         Beauty & Spas, Hair Salons    Calgary   \n",
       "\n",
       "                                               hours  is_open   latitude  \\\n",
       "0                                               None        0  33.522143   \n",
       "1  {'Monday': '17:30-21:30', 'Wednesday': '17:30-...        1  35.092564   \n",
       "2  {'Monday': '8:0-17:0', 'Tuesday': '8:0-17:0', ...        1  33.455613   \n",
       "3  {'Monday': '7:0-23:0', 'Tuesday': '7:0-23:0', ...        1  35.190012   \n",
       "4                                               None        1  50.943646   \n",
       "\n",
       "    longitude                             name postal_code state  \n",
       "0 -112.018481       Arizona Biltmore Golf Club       85016    AZ  \n",
       "1  -80.859132      Musashi Japanese Restaurant       28210    NC  \n",
       "2 -112.395596  Farmers Insurance - Paul Lorenz       85338    AZ  \n",
       "3  -80.887223              Queen City Plumbing       28217    NC  \n",
       "4 -114.001828                 Edgeworxx Studio     T2Z 1K4    AB  "
      ]
     },
     "execution_count": 12,
     "metadata": {},
     "output_type": "execute_result"
    }
   ],
   "source": [
    "dfc = pd.DataFrame.from_records(c)\n",
    "dfc.head(5)"
   ]
  },
  {
   "cell_type": "code",
   "execution_count": 13,
   "metadata": {},
   "outputs": [
    {
     "data": {
      "text/html": [
       "<div>\n",
       "<style scoped>\n",
       "    .dataframe tbody tr th:only-of-type {\n",
       "        vertical-align: middle;\n",
       "    }\n",
       "\n",
       "    .dataframe tbody tr th {\n",
       "        vertical-align: top;\n",
       "    }\n",
       "\n",
       "    .dataframe thead th {\n",
       "        text-align: right;\n",
       "    }\n",
       "</style>\n",
       "<table border=\"1\" class=\"dataframe\">\n",
       "  <thead>\n",
       "    <tr style=\"text-align: right;\">\n",
       "      <th></th>\n",
       "      <th>attributes</th>\n",
       "      <th>business_id</th>\n",
       "      <th>categories</th>\n",
       "      <th>city</th>\n",
       "      <th>hours</th>\n",
       "      <th>is_open</th>\n",
       "      <th>latitude</th>\n",
       "      <th>longitude</th>\n",
       "      <th>name</th>\n",
       "      <th>postal_code</th>\n",
       "      <th>state</th>\n",
       "    </tr>\n",
       "  </thead>\n",
       "  <tbody>\n",
       "    <tr>\n",
       "      <th>0</th>\n",
       "      <td>{'RestaurantsReservations': 'True', 'GoodForMe...</td>\n",
       "      <td>141184</td>\n",
       "      <td>Specialty Food, Restaurants, Dim Sum, Imported...</td>\n",
       "      <td>Mississauga</td>\n",
       "      <td>{'Monday': '9:0-0:0', 'Tuesday': '9:0-0:0', 'W...</td>\n",
       "      <td>1</td>\n",
       "      <td>43.605499</td>\n",
       "      <td>-79.652289</td>\n",
       "      <td>Emerald Chinese Restaurant</td>\n",
       "      <td>L5R 3E7</td>\n",
       "      <td>ON</td>\n",
       "    </tr>\n",
       "    <tr>\n",
       "      <th>1</th>\n",
       "      <td>{'BusinessParking': '{'garage': False, 'street...</td>\n",
       "      <td>148476</td>\n",
       "      <td>Shipping Centers, Couriers &amp; Delivery Services...</td>\n",
       "      <td>Mississauga</td>\n",
       "      <td>{'Monday': '9:0-19:0', 'Tuesday': '9:0-20:0', ...</td>\n",
       "      <td>1</td>\n",
       "      <td>43.599475</td>\n",
       "      <td>-79.711584</td>\n",
       "      <td>The UPS Store</td>\n",
       "      <td>L5V 0B1</td>\n",
       "      <td>ON</td>\n",
       "    </tr>\n",
       "    <tr>\n",
       "      <th>2</th>\n",
       "      <td>{'BusinessAcceptsCreditCards': 'True', 'Busine...</td>\n",
       "      <td>86835</td>\n",
       "      <td>Hair Stylists, Beauty &amp; Spas, Hair Salons, Men...</td>\n",
       "      <td>Scottsdale</td>\n",
       "      <td>{'Monday': '0:0-0:0', 'Tuesday': '9:0-19:0', '...</td>\n",
       "      <td>1</td>\n",
       "      <td>33.600071</td>\n",
       "      <td>-111.977371</td>\n",
       "      <td>Knot Salon</td>\n",
       "      <td>85254</td>\n",
       "      <td>AZ</td>\n",
       "    </tr>\n",
       "    <tr>\n",
       "      <th>3</th>\n",
       "      <td>{'BusinessAcceptsCreditCards': 'True', 'Busine...</td>\n",
       "      <td>116708</td>\n",
       "      <td>Women's Clothing, Shopping, Accessories, Fashi...</td>\n",
       "      <td>Las Vegas</td>\n",
       "      <td>{'Monday': '10:0-20:0', 'Tuesday': '10:0-20:0'...</td>\n",
       "      <td>1</td>\n",
       "      <td>36.271546</td>\n",
       "      <td>-115.264484</td>\n",
       "      <td>Maurices</td>\n",
       "      <td>89149</td>\n",
       "      <td>NV</td>\n",
       "    </tr>\n",
       "    <tr>\n",
       "      <th>4</th>\n",
       "      <td>{'WiFi': 'u'no'', 'BikeParking': 'True', 'Rest...</td>\n",
       "      <td>59216</td>\n",
       "      <td>Juice Bars &amp; Smoothies, Food, Restaurants, Fas...</td>\n",
       "      <td>Toronto</td>\n",
       "      <td>{'Monday': '8:0-21:0', 'Tuesday': '8:0-21:0', ...</td>\n",
       "      <td>1</td>\n",
       "      <td>43.642889</td>\n",
       "      <td>-79.425429</td>\n",
       "      <td>Bolt Fresh Bar</td>\n",
       "      <td>M6J 1J5</td>\n",
       "      <td>ON</td>\n",
       "    </tr>\n",
       "  </tbody>\n",
       "</table>\n",
       "</div>"
      ],
      "text/plain": [
       "                                          attributes  business_id  \\\n",
       "0  {'RestaurantsReservations': 'True', 'GoodForMe...       141184   \n",
       "1  {'BusinessParking': '{'garage': False, 'street...       148476   \n",
       "2  {'BusinessAcceptsCreditCards': 'True', 'Busine...        86835   \n",
       "3  {'BusinessAcceptsCreditCards': 'True', 'Busine...       116708   \n",
       "4  {'WiFi': 'u'no'', 'BikeParking': 'True', 'Rest...        59216   \n",
       "\n",
       "                                          categories         city  \\\n",
       "0  Specialty Food, Restaurants, Dim Sum, Imported...  Mississauga   \n",
       "1  Shipping Centers, Couriers & Delivery Services...  Mississauga   \n",
       "2  Hair Stylists, Beauty & Spas, Hair Salons, Men...   Scottsdale   \n",
       "3  Women's Clothing, Shopping, Accessories, Fashi...    Las Vegas   \n",
       "4  Juice Bars & Smoothies, Food, Restaurants, Fas...      Toronto   \n",
       "\n",
       "                                               hours  is_open   latitude  \\\n",
       "0  {'Monday': '9:0-0:0', 'Tuesday': '9:0-0:0', 'W...        1  43.605499   \n",
       "1  {'Monday': '9:0-19:0', 'Tuesday': '9:0-20:0', ...        1  43.599475   \n",
       "2  {'Monday': '0:0-0:0', 'Tuesday': '9:0-19:0', '...        1  33.600071   \n",
       "3  {'Monday': '10:0-20:0', 'Tuesday': '10:0-20:0'...        1  36.271546   \n",
       "4  {'Monday': '8:0-21:0', 'Tuesday': '8:0-21:0', ...        1  43.642889   \n",
       "\n",
       "    longitude                        name postal_code state  \n",
       "0  -79.652289  Emerald Chinese Restaurant     L5R 3E7    ON  \n",
       "1  -79.711584               The UPS Store     L5V 0B1    ON  \n",
       "2 -111.977371                  Knot Salon       85254    AZ  \n",
       "3 -115.264484                    Maurices       89149    NV  \n",
       "4  -79.425429              Bolt Fresh Bar     M6J 1J5    ON  "
      ]
     },
     "execution_count": 13,
     "metadata": {},
     "output_type": "execute_result"
    }
   ],
   "source": [
    "dfd = pd.DataFrame.from_records(d)\n",
    "dfd.head(5)"
   ]
  },
  {
   "cell_type": "code",
   "execution_count": 33,
   "metadata": {},
   "outputs": [
    {
     "data": {
      "text/plain": [
       "23732"
      ]
     },
     "execution_count": 33,
     "metadata": {},
     "output_type": "execute_result"
    }
   ],
   "source": [
    "#json.loads(c[1])['business_id']  #Sushi "
   ]
  },
  {
   "cell_type": "code",
   "execution_count": 48,
   "metadata": {},
   "outputs": [
    {
     "data": {
      "text/plain": [
       "(array([  1449,   9807,  27604,  28628,  34276,  37408,  38081,  38302,\n",
       "         45867,  48835,  49841,  49843,  50452,  53558,  55019,  56341,\n",
       "         57956,  58184,  61033,  62605,  63646,  69961,  70778,  79467,\n",
       "         80752,  82598,  84867,  91024,  91756,  92164,  93136,  98117,\n",
       "         98356, 100393, 100711, 103587, 103766, 104983, 105623, 108204,\n",
       "        109438, 110607, 112367, 115613, 119504, 120329, 122528, 123358,\n",
       "        124199, 136322, 137635, 138052, 146438, 156877, 166808, 166821,\n",
       "        169071, 169949, 170681, 174620, 175105, 175922, 179809, 185486,\n",
       "        186265, 186291, 190201, 194498, 195147, 201095, 204186, 207210,\n",
       "        208369, 212403, 216060, 220229, 224848, 232573, 236691, 238651,\n",
       "        248775, 251440, 252537, 254292, 255632, 261341, 264554, 265135,\n",
       "        265431, 266040, 268176, 268397, 275953, 280472, 281491, 284291,\n",
       "        284483, 287903, 292785, 293038, 294168, 296179, 298059, 304706,\n",
       "        306316, 312653, 313153, 313569, 321087, 323085, 324541, 330124,\n",
       "        334683, 336168, 339777, 342946, 345002, 345052, 346133, 346453,\n",
       "        349396, 353055, 355306, 357373, 362701, 374045, 376158, 385963,\n",
       "        387906, 395394, 396662, 400056, 400508, 401503, 402502, 407594,\n",
       "        409855, 410512, 411637, 412310, 413825, 417777, 417926, 419097,\n",
       "        420454, 421094, 427572, 428999, 431529, 432563, 432671, 438417,\n",
       "        438452, 441133, 442433, 443972, 450167, 457940, 463027, 464081,\n",
       "        466543, 468176, 473644, 477781, 479055, 480843, 481495, 489746,\n",
       "        490630, 495233, 496513, 504275, 507508, 508660, 509678, 510440,\n",
       "        511166, 512427], dtype=int64),)"
      ]
     },
     "execution_count": 48,
     "metadata": {},
     "output_type": "execute_result"
    }
   ],
   "source": [
    "#import numpy as np\n",
    "#np.where(df['business_id'] == 23732)"
   ]
  },
  {
   "cell_type": "code",
   "execution_count": 25,
   "metadata": {},
   "outputs": [
    {
     "data": {
      "text/plain": [
       "0         True\n",
       "1         True\n",
       "2         True\n",
       "3         True\n",
       "4         True\n",
       "5         True\n",
       "6         True\n",
       "7         True\n",
       "8         True\n",
       "9         True\n",
       "10        True\n",
       "11        True\n",
       "12        True\n",
       "13        True\n",
       "14        True\n",
       "15        True\n",
       "16        True\n",
       "17        True\n",
       "18        True\n",
       "19        True\n",
       "20        True\n",
       "21        True\n",
       "22        True\n",
       "23        True\n",
       "24        True\n",
       "25        True\n",
       "26        True\n",
       "27        True\n",
       "28        True\n",
       "29        True\n",
       "          ... \n",
       "154576    True\n",
       "154577    True\n",
       "154578    True\n",
       "154579    True\n",
       "154580    True\n",
       "154581    True\n",
       "154582    True\n",
       "154583    True\n",
       "154584    True\n",
       "154585    True\n",
       "154586    True\n",
       "154587    True\n",
       "154588    True\n",
       "154589    True\n",
       "154590    True\n",
       "154591    True\n",
       "154592    True\n",
       "154593    True\n",
       "154594    True\n",
       "154595    True\n",
       "154596    True\n",
       "154597    True\n",
       "154598    True\n",
       "154599    True\n",
       "154600    True\n",
       "154601    True\n",
       "154602    True\n",
       "154603    True\n",
       "154604    True\n",
       "154605    True\n",
       "Name: business_id, Length: 154606, dtype: bool"
      ]
     },
     "execution_count": 25,
     "metadata": {},
     "output_type": "execute_result"
    }
   ],
   "source": [
    "dfc['business_id'].isin(dfa['business_id'])"
   ]
  },
  {
   "cell_type": "code",
   "execution_count": 84,
   "metadata": {
    "scrolled": true
   },
   "outputs": [],
   "source": [
    "def check_res(self):\n",
    "    result = False\n",
    "    if ('restaurants'in (self.lower().replace(\" \", \"\").split(','))) or ('restaurant'in (self.lower().replace(\" \", \"\").split(','))):\n",
    "        result=True\n",
    "    return result  "
   ]
  },
  {
   "cell_type": "code",
   "execution_count": 85,
   "metadata": {},
   "outputs": [
    {
     "ename": "AttributeError",
     "evalue": "'NoneType' object has no attribute 'lower'",
     "output_type": "error",
     "traceback": [
      "\u001b[1;31m---------------------------------------------------------------------------\u001b[0m",
      "\u001b[1;31mAttributeError\u001b[0m                            Traceback (most recent call last)",
      "\u001b[1;32m<ipython-input-85-72b8a322db95>\u001b[0m in \u001b[0;36m<module>\u001b[1;34m\u001b[0m\n\u001b[1;32m----> 1\u001b[1;33m \u001b[0mdfc\u001b[0m\u001b[1;33m[\u001b[0m\u001b[1;34m'categories'\u001b[0m\u001b[1;33m]\u001b[0m\u001b[1;33m.\u001b[0m\u001b[0mapply\u001b[0m\u001b[1;33m(\u001b[0m\u001b[0mcheck_res\u001b[0m\u001b[1;33m)\u001b[0m\u001b[1;33m\u001b[0m\u001b[1;33m\u001b[0m\u001b[0m\n\u001b[0m",
      "\u001b[1;32m~\\Anaconda3\\lib\\site-packages\\pandas\\core\\series.py\u001b[0m in \u001b[0;36mapply\u001b[1;34m(self, func, convert_dtype, args, **kwds)\u001b[0m\n\u001b[0;32m   3589\u001b[0m             \u001b[1;32melse\u001b[0m\u001b[1;33m:\u001b[0m\u001b[1;33m\u001b[0m\u001b[1;33m\u001b[0m\u001b[0m\n\u001b[0;32m   3590\u001b[0m                 \u001b[0mvalues\u001b[0m \u001b[1;33m=\u001b[0m \u001b[0mself\u001b[0m\u001b[1;33m.\u001b[0m\u001b[0mastype\u001b[0m\u001b[1;33m(\u001b[0m\u001b[0mobject\u001b[0m\u001b[1;33m)\u001b[0m\u001b[1;33m.\u001b[0m\u001b[0mvalues\u001b[0m\u001b[1;33m\u001b[0m\u001b[1;33m\u001b[0m\u001b[0m\n\u001b[1;32m-> 3591\u001b[1;33m                 \u001b[0mmapped\u001b[0m \u001b[1;33m=\u001b[0m \u001b[0mlib\u001b[0m\u001b[1;33m.\u001b[0m\u001b[0mmap_infer\u001b[0m\u001b[1;33m(\u001b[0m\u001b[0mvalues\u001b[0m\u001b[1;33m,\u001b[0m \u001b[0mf\u001b[0m\u001b[1;33m,\u001b[0m \u001b[0mconvert\u001b[0m\u001b[1;33m=\u001b[0m\u001b[0mconvert_dtype\u001b[0m\u001b[1;33m)\u001b[0m\u001b[1;33m\u001b[0m\u001b[1;33m\u001b[0m\u001b[0m\n\u001b[0m\u001b[0;32m   3592\u001b[0m \u001b[1;33m\u001b[0m\u001b[0m\n\u001b[0;32m   3593\u001b[0m         \u001b[1;32mif\u001b[0m \u001b[0mlen\u001b[0m\u001b[1;33m(\u001b[0m\u001b[0mmapped\u001b[0m\u001b[1;33m)\u001b[0m \u001b[1;32mand\u001b[0m \u001b[0misinstance\u001b[0m\u001b[1;33m(\u001b[0m\u001b[0mmapped\u001b[0m\u001b[1;33m[\u001b[0m\u001b[1;36m0\u001b[0m\u001b[1;33m]\u001b[0m\u001b[1;33m,\u001b[0m \u001b[0mSeries\u001b[0m\u001b[1;33m)\u001b[0m\u001b[1;33m:\u001b[0m\u001b[1;33m\u001b[0m\u001b[1;33m\u001b[0m\u001b[0m\n",
      "\u001b[1;32mpandas\\_libs\\lib.pyx\u001b[0m in \u001b[0;36mpandas._libs.lib.map_infer\u001b[1;34m()\u001b[0m\n",
      "\u001b[1;32m<ipython-input-84-4911485dc6f0>\u001b[0m in \u001b[0;36mcheck_res\u001b[1;34m(self)\u001b[0m\n\u001b[0;32m      1\u001b[0m \u001b[1;32mdef\u001b[0m \u001b[0mcheck_res\u001b[0m\u001b[1;33m(\u001b[0m\u001b[0mself\u001b[0m\u001b[1;33m)\u001b[0m\u001b[1;33m:\u001b[0m\u001b[1;33m\u001b[0m\u001b[1;33m\u001b[0m\u001b[0m\n\u001b[0;32m      2\u001b[0m     \u001b[0mresult\u001b[0m \u001b[1;33m=\u001b[0m \u001b[1;32mFalse\u001b[0m\u001b[1;33m\u001b[0m\u001b[1;33m\u001b[0m\u001b[0m\n\u001b[1;32m----> 3\u001b[1;33m     \u001b[1;32mif\u001b[0m \u001b[1;33m(\u001b[0m\u001b[1;34m'restaurants'\u001b[0m\u001b[1;32min\u001b[0m \u001b[1;33m(\u001b[0m\u001b[0mself\u001b[0m\u001b[1;33m.\u001b[0m\u001b[0mlower\u001b[0m\u001b[1;33m(\u001b[0m\u001b[1;33m)\u001b[0m\u001b[1;33m.\u001b[0m\u001b[0mreplace\u001b[0m\u001b[1;33m(\u001b[0m\u001b[1;34m\" \"\u001b[0m\u001b[1;33m,\u001b[0m \u001b[1;34m\"\"\u001b[0m\u001b[1;33m)\u001b[0m\u001b[1;33m.\u001b[0m\u001b[0msplit\u001b[0m\u001b[1;33m(\u001b[0m\u001b[1;34m','\u001b[0m\u001b[1;33m)\u001b[0m\u001b[1;33m)\u001b[0m\u001b[1;33m)\u001b[0m \u001b[1;32mor\u001b[0m \u001b[1;33m(\u001b[0m\u001b[1;34m'restaurant'\u001b[0m\u001b[1;32min\u001b[0m \u001b[1;33m(\u001b[0m\u001b[0mself\u001b[0m\u001b[1;33m.\u001b[0m\u001b[0mlower\u001b[0m\u001b[1;33m(\u001b[0m\u001b[1;33m)\u001b[0m\u001b[1;33m.\u001b[0m\u001b[0mreplace\u001b[0m\u001b[1;33m(\u001b[0m\u001b[1;34m\" \"\u001b[0m\u001b[1;33m,\u001b[0m \u001b[1;34m\"\"\u001b[0m\u001b[1;33m)\u001b[0m\u001b[1;33m.\u001b[0m\u001b[0msplit\u001b[0m\u001b[1;33m(\u001b[0m\u001b[1;34m','\u001b[0m\u001b[1;33m)\u001b[0m\u001b[1;33m)\u001b[0m\u001b[1;33m)\u001b[0m\u001b[1;33m:\u001b[0m\u001b[1;33m\u001b[0m\u001b[1;33m\u001b[0m\u001b[0m\n\u001b[0m\u001b[0;32m      4\u001b[0m         \u001b[0mresult\u001b[0m\u001b[1;33m=\u001b[0m\u001b[1;32mTrue\u001b[0m\u001b[1;33m\u001b[0m\u001b[1;33m\u001b[0m\u001b[0m\n\u001b[0;32m      5\u001b[0m     \u001b[1;32mreturn\u001b[0m \u001b[0mresult\u001b[0m\u001b[1;33m\u001b[0m\u001b[1;33m\u001b[0m\u001b[0m\n",
      "\u001b[1;31mAttributeError\u001b[0m: 'NoneType' object has no attribute 'lower'"
     ]
    }
   ],
   "source": [
    "dfc['categories'].apply(check_res)"
   ]
  },
  {
   "cell_type": "code",
   "execution_count": 88,
   "metadata": {},
   "outputs": [
    {
     "data": {
      "text/plain": [
       "'sushi bars, restaurants, japanese'"
      ]
     },
     "execution_count": 88,
     "metadata": {},
     "output_type": "execute_result"
    }
   ],
   "source": [
    "dfc['categories'][1].lower()"
   ]
  }
 ],
 "metadata": {
  "kernelspec": {
   "display_name": "Python 3",
   "language": "python",
   "name": "python3"
  },
  "language_info": {
   "codemirror_mode": {
    "name": "ipython",
    "version": 3
   },
   "file_extension": ".py",
   "mimetype": "text/x-python",
   "name": "python",
   "nbconvert_exporter": "python",
   "pygments_lexer": "ipython3",
   "version": "3.6.8"
  }
 },
 "nbformat": 4,
 "nbformat_minor": 2
}
