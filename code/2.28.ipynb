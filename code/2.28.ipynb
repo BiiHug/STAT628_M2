{
 "cells": [
  {
   "cell_type": "code",
   "execution_count": 2,
   "metadata": {},
   "outputs": [],
   "source": [
    "import json\n",
    "import pandas as pd\n",
    "import numpy as np\n",
    "import re\n",
    "from gensim.corpora.dictionary import Dictionary\n",
    "import operator\n",
    "import matplotlib.pyplot as plt"
   ]
  },
  {
   "cell_type": "code",
   "execution_count": 3,
   "metadata": {},
   "outputs": [
    {
     "data": {
      "text/plain": [
       "'/Users/zhangyilun/Desktop/Module2'"
      ]
     },
     "execution_count": 3,
     "metadata": {},
     "output_type": "execute_result"
    }
   ],
   "source": [
    "pwd"
   ]
  },
  {
   "cell_type": "code",
   "execution_count": 111,
   "metadata": {},
   "outputs": [
    {
     "data": {
      "text/html": [
       "<div>\n",
       "<style scoped>\n",
       "    .dataframe tbody tr th:only-of-type {\n",
       "        vertical-align: middle;\n",
       "    }\n",
       "\n",
       "    .dataframe tbody tr th {\n",
       "        vertical-align: top;\n",
       "    }\n",
       "\n",
       "    .dataframe thead th {\n",
       "        text-align: right;\n",
       "    }\n",
       "</style>\n",
       "<table border=\"1\" class=\"dataframe\">\n",
       "  <thead>\n",
       "    <tr style=\"text-align: right;\">\n",
       "      <th></th>\n",
       "      <th>attributes</th>\n",
       "      <th>business_id</th>\n",
       "      <th>categories</th>\n",
       "      <th>city</th>\n",
       "      <th>hours</th>\n",
       "      <th>is_open</th>\n",
       "      <th>latitude</th>\n",
       "      <th>longitude</th>\n",
       "      <th>name</th>\n",
       "      <th>postal_code</th>\n",
       "      <th>state</th>\n",
       "    </tr>\n",
       "  </thead>\n",
       "  <tbody>\n",
       "    <tr>\n",
       "      <th>0</th>\n",
       "      <td>{'GoodForKids': 'False'}</td>\n",
       "      <td>3157</td>\n",
       "      <td>Golf, Active Life</td>\n",
       "      <td>Phoenix</td>\n",
       "      <td>None</td>\n",
       "      <td>0</td>\n",
       "      <td>33.522143</td>\n",
       "      <td>-112.018481</td>\n",
       "      <td>Arizona Biltmore Golf Club</td>\n",
       "      <td>85016</td>\n",
       "      <td>AZ</td>\n",
       "    </tr>\n",
       "    <tr>\n",
       "      <th>1</th>\n",
       "      <td>{'GoodForKids': 'True', 'NoiseLevel': 'u'avera...</td>\n",
       "      <td>23732</td>\n",
       "      <td>Sushi Bars, Restaurants, Japanese</td>\n",
       "      <td>Charlotte</td>\n",
       "      <td>{'Monday': '17:30-21:30', 'Wednesday': '17:30-...</td>\n",
       "      <td>1</td>\n",
       "      <td>35.092564</td>\n",
       "      <td>-80.859132</td>\n",
       "      <td>Musashi Japanese Restaurant</td>\n",
       "      <td>28210</td>\n",
       "      <td>NC</td>\n",
       "    </tr>\n",
       "    <tr>\n",
       "      <th>2</th>\n",
       "      <td>None</td>\n",
       "      <td>53580</td>\n",
       "      <td>Insurance, Financial Services</td>\n",
       "      <td>Goodyear</td>\n",
       "      <td>{'Monday': '8:0-17:0', 'Tuesday': '8:0-17:0', ...</td>\n",
       "      <td>1</td>\n",
       "      <td>33.455613</td>\n",
       "      <td>-112.395596</td>\n",
       "      <td>Farmers Insurance - Paul Lorenz</td>\n",
       "      <td>85338</td>\n",
       "      <td>AZ</td>\n",
       "    </tr>\n",
       "    <tr>\n",
       "      <th>3</th>\n",
       "      <td>{'BusinessAcceptsBitcoin': 'False', 'ByAppoint...</td>\n",
       "      <td>27909</td>\n",
       "      <td>Plumbing, Shopping, Local Services, Home Servi...</td>\n",
       "      <td>Charlotte</td>\n",
       "      <td>{'Monday': '7:0-23:0', 'Tuesday': '7:0-23:0', ...</td>\n",
       "      <td>1</td>\n",
       "      <td>35.190012</td>\n",
       "      <td>-80.887223</td>\n",
       "      <td>Queen City Plumbing</td>\n",
       "      <td>28217</td>\n",
       "      <td>NC</td>\n",
       "    </tr>\n",
       "    <tr>\n",
       "      <th>4</th>\n",
       "      <td>{'RestaurantsPriceRange2': '2', 'BusinessParki...</td>\n",
       "      <td>95694</td>\n",
       "      <td>Beauty &amp; Spas, Hair Salons</td>\n",
       "      <td>Calgary</td>\n",
       "      <td>None</td>\n",
       "      <td>1</td>\n",
       "      <td>50.943646</td>\n",
       "      <td>-114.001828</td>\n",
       "      <td>Edgeworxx Studio</td>\n",
       "      <td>T2Z 1K4</td>\n",
       "      <td>AB</td>\n",
       "    </tr>\n",
       "    <tr>\n",
       "      <th>5</th>\n",
       "      <td>{'RestaurantsPriceRange2': '3', 'GoodForKids':...</td>\n",
       "      <td>72533</td>\n",
       "      <td>Hair Salons, Hair Stylists, Barbers, Men's Hai...</td>\n",
       "      <td>Las Vegas</td>\n",
       "      <td>{'Monday': '10:0-19:0', 'Tuesday': '10:0-19:0'...</td>\n",
       "      <td>1</td>\n",
       "      <td>36.099872</td>\n",
       "      <td>-115.074574</td>\n",
       "      <td>Supercuts</td>\n",
       "      <td>89121</td>\n",
       "      <td>NV</td>\n",
       "    </tr>\n",
       "    <tr>\n",
       "      <th>6</th>\n",
       "      <td>{'RestaurantsPriceRange2': '2', 'ByAppointment...</td>\n",
       "      <td>5438</td>\n",
       "      <td>Nail Salons, Beauty &amp; Spas, Day Spas</td>\n",
       "      <td>Glendale</td>\n",
       "      <td>{'Tuesday': '12:0-18:0', 'Wednesday': '10:0-18...</td>\n",
       "      <td>0</td>\n",
       "      <td>33.654815</td>\n",
       "      <td>-112.188568</td>\n",
       "      <td>Vita Bella Fine Day Spa</td>\n",
       "      <td>85308</td>\n",
       "      <td>AZ</td>\n",
       "    </tr>\n",
       "  </tbody>\n",
       "</table>\n",
       "</div>"
      ],
      "text/plain": [
       "                                          attributes  business_id  \\\n",
       "0                           {'GoodForKids': 'False'}         3157   \n",
       "1  {'GoodForKids': 'True', 'NoiseLevel': 'u'avera...        23732   \n",
       "2                                               None        53580   \n",
       "3  {'BusinessAcceptsBitcoin': 'False', 'ByAppoint...        27909   \n",
       "4  {'RestaurantsPriceRange2': '2', 'BusinessParki...        95694   \n",
       "5  {'RestaurantsPriceRange2': '3', 'GoodForKids':...        72533   \n",
       "6  {'RestaurantsPriceRange2': '2', 'ByAppointment...         5438   \n",
       "\n",
       "                                          categories       city  \\\n",
       "0                                  Golf, Active Life    Phoenix   \n",
       "1                  Sushi Bars, Restaurants, Japanese  Charlotte   \n",
       "2                      Insurance, Financial Services   Goodyear   \n",
       "3  Plumbing, Shopping, Local Services, Home Servi...  Charlotte   \n",
       "4                         Beauty & Spas, Hair Salons    Calgary   \n",
       "5  Hair Salons, Hair Stylists, Barbers, Men's Hai...  Las Vegas   \n",
       "6               Nail Salons, Beauty & Spas, Day Spas   Glendale   \n",
       "\n",
       "                                               hours  is_open   latitude  \\\n",
       "0                                               None        0  33.522143   \n",
       "1  {'Monday': '17:30-21:30', 'Wednesday': '17:30-...        1  35.092564   \n",
       "2  {'Monday': '8:0-17:0', 'Tuesday': '8:0-17:0', ...        1  33.455613   \n",
       "3  {'Monday': '7:0-23:0', 'Tuesday': '7:0-23:0', ...        1  35.190012   \n",
       "4                                               None        1  50.943646   \n",
       "5  {'Monday': '10:0-19:0', 'Tuesday': '10:0-19:0'...        1  36.099872   \n",
       "6  {'Tuesday': '12:0-18:0', 'Wednesday': '10:0-18...        0  33.654815   \n",
       "\n",
       "    longitude                             name postal_code state  \n",
       "0 -112.018481       Arizona Biltmore Golf Club       85016    AZ  \n",
       "1  -80.859132      Musashi Japanese Restaurant       28210    NC  \n",
       "2 -112.395596  Farmers Insurance - Paul Lorenz       85338    AZ  \n",
       "3  -80.887223              Queen City Plumbing       28217    NC  \n",
       "4 -114.001828                 Edgeworxx Studio     T2Z 1K4    AB  \n",
       "5 -115.074574                        Supercuts       89121    NV  \n",
       "6 -112.188568          Vita Bella Fine Day Spa       85308    AZ  "
      ]
     },
     "execution_count": 111,
     "metadata": {},
     "output_type": "execute_result"
    }
   ],
   "source": [
    "#这一个part是在处理商家数据\n",
    "##读入数据\n",
    "file3 = open('./rawdata/business_train.json','r')\n",
    "busTrain = file3.readlines()\n",
    "file3.close()\n",
    "for i in range(len(busTrain)):\n",
    "    busTrain[i]=json.loads(busTrain[i])\n",
    "dfBusTrain = pd.DataFrame.from_records(busTrain)"
   ]
  },
  {
   "cell_type": "code",
   "execution_count": 130,
   "metadata": {},
   "outputs": [
    {
     "data": {
      "text/plain": [
       "{'Friday': '10:0-17:0',\n",
       " 'Saturday': '10:0-14:0',\n",
       " 'Thursday': '12:0-18:0',\n",
       " 'Tuesday': '12:0-18:0',\n",
       " 'Wednesday': '10:0-18:0'}"
      ]
     },
     "execution_count": 130,
     "metadata": {},
     "output_type": "execute_result"
    }
   ],
   "source": [
    "dfBusTrain.head(7).iloc[6]['hours']"
   ]
  },
  {
   "cell_type": "markdown",
   "metadata": {},
   "source": [
    "# 1.Find the chinese restaurant"
   ]
  },
  {
   "cell_type": "code",
   "execution_count": 19,
   "metadata": {},
   "outputs": [
    {
     "name": "stderr",
     "output_type": "stream",
     "text": [
      "/anaconda3/lib/python3.6/site-packages/ipykernel_launcher.py:14: SettingWithCopyWarning: \n",
      "A value is trying to be set on a copy of a slice from a DataFrame\n",
      "\n",
      "See the caveats in the documentation: http://pandas.pydata.org/pandas-docs/stable/indexing.html#indexing-view-versus-copy\n",
      "  \n"
     ]
    }
   ],
   "source": [
    "def checkChinese(self):\n",
    "    result = False\n",
    "    try:\n",
    "        catList = self.lower().replace(\" \", \"\").split(',')\n",
    "        if 'chinese'in catList:\n",
    "            result=True\n",
    "    except AttributeError:\n",
    "        result = False\n",
    "    return result\n",
    "chineseIndex = np.where(dfBusTrain['categories'].apply(checkChinese))\n",
    "chineseIdList = dfBusTrain['business_id'].iloc[chineseIndex]\n",
    "dfChineseTrain = dfBusTrain.iloc[chineseIndex]\n",
    "dfChineseTrain.index = range(len(dfChineseTrain))\n",
    "dfChineseTrain.drop(['is_open', 'postal_code'],axis=1,inplace=True)"
   ]
  },
  {
   "cell_type": "code",
   "execution_count": 27,
   "metadata": {},
   "outputs": [
    {
     "data": {
      "text/plain": [
       "(array([    38,     63,    149, ..., 154574, 154576, 154595]),)"
      ]
     },
     "execution_count": 27,
     "metadata": {},
     "output_type": "execute_result"
    }
   ],
   "source": [
    "chineseIndex"
   ]
  },
  {
   "cell_type": "code",
   "execution_count": 29,
   "metadata": {},
   "outputs": [
    {
     "data": {
      "text/plain": [
       "38     105372\n",
       "63      20037\n",
       "149    111668\n",
       "179    101172\n",
       "236    165961\n",
       "Name: business_id, dtype: int64"
      ]
     },
     "execution_count": 29,
     "metadata": {},
     "output_type": "execute_result"
    }
   ],
   "source": [
    "chineseIdList.head()"
   ]
  },
  {
   "cell_type": "code",
   "execution_count": 24,
   "metadata": {},
   "outputs": [
    {
     "data": {
      "text/plain": [
       "3557"
      ]
     },
     "execution_count": 24,
     "metadata": {},
     "output_type": "execute_result"
    }
   ],
   "source": [
    "len(dfChineseTrain)"
   ]
  },
  {
   "cell_type": "code",
   "execution_count": 110,
   "metadata": {},
   "outputs": [
    {
     "data": {
      "text/html": [
       "<div>\n",
       "<style scoped>\n",
       "    .dataframe tbody tr th:only-of-type {\n",
       "        vertical-align: middle;\n",
       "    }\n",
       "\n",
       "    .dataframe tbody tr th {\n",
       "        vertical-align: top;\n",
       "    }\n",
       "\n",
       "    .dataframe thead th {\n",
       "        text-align: right;\n",
       "    }\n",
       "</style>\n",
       "<table border=\"1\" class=\"dataframe\">\n",
       "  <thead>\n",
       "    <tr style=\"text-align: right;\">\n",
       "      <th></th>\n",
       "      <th>attributes</th>\n",
       "      <th>business_id</th>\n",
       "      <th>categories</th>\n",
       "      <th>city</th>\n",
       "      <th>hours</th>\n",
       "      <th>latitude</th>\n",
       "      <th>longitude</th>\n",
       "      <th>name</th>\n",
       "      <th>state</th>\n",
       "    </tr>\n",
       "  </thead>\n",
       "  <tbody>\n",
       "    <tr>\n",
       "      <th>0</th>\n",
       "      <td>{'BusinessParking': '{'garage': False, 'street...</td>\n",
       "      <td>105372</td>\n",
       "      <td>Chinese, Dim Sum, Restaurants</td>\n",
       "      <td>Calgary</td>\n",
       "      <td>None</td>\n",
       "      <td>51.081162</td>\n",
       "      <td>-113.993474</td>\n",
       "      <td>Pearl Garden</td>\n",
       "      <td>AB</td>\n",
       "    </tr>\n",
       "    <tr>\n",
       "      <th>1</th>\n",
       "      <td>{'Caters': 'True', 'GoodForKids': 'True', 'Noi...</td>\n",
       "      <td>20037</td>\n",
       "      <td>Chinese, Restaurants</td>\n",
       "      <td>Phoenix</td>\n",
       "      <td>{'Monday': '11:0-21:0', 'Tuesday': '11:0-21:0'...</td>\n",
       "      <td>33.613020</td>\n",
       "      <td>-111.977036</td>\n",
       "      <td>Nee House Chinese Restaurant</td>\n",
       "      <td>AZ</td>\n",
       "    </tr>\n",
       "    <tr>\n",
       "      <th>2</th>\n",
       "      <td>{'OutdoorSeating': 'False', 'RestaurantsGoodFo...</td>\n",
       "      <td>111668</td>\n",
       "      <td>Chinese, Restaurants</td>\n",
       "      <td>Scottsdale</td>\n",
       "      <td>{'Monday': '11:0-21:30', 'Tuesday': '11:0-21:3...</td>\n",
       "      <td>33.478754</td>\n",
       "      <td>-111.925484</td>\n",
       "      <td>Yummy Yummy Chinese Restaurant</td>\n",
       "      <td>AZ</td>\n",
       "    </tr>\n",
       "    <tr>\n",
       "      <th>3</th>\n",
       "      <td>{'WiFi': ''no'', 'GoodForKids': 'True', 'Resta...</td>\n",
       "      <td>101172</td>\n",
       "      <td>Chinese, Restaurants</td>\n",
       "      <td>Mesa</td>\n",
       "      <td>None</td>\n",
       "      <td>33.394863</td>\n",
       "      <td>-111.756036</td>\n",
       "      <td>China Gourmet</td>\n",
       "      <td>AZ</td>\n",
       "    </tr>\n",
       "    <tr>\n",
       "      <th>4</th>\n",
       "      <td>{'Alcohol': ''full_bar'', 'RestaurantsTableSer...</td>\n",
       "      <td>165961</td>\n",
       "      <td>Dim Sum, Chinese, Tapas/Small Plates, Restaurants</td>\n",
       "      <td>Toronto</td>\n",
       "      <td>{'Monday': '11:30-22:30', 'Tuesday': '11:30-22...</td>\n",
       "      <td>43.646478</td>\n",
       "      <td>-79.390019</td>\n",
       "      <td>Pearl King</td>\n",
       "      <td>ON</td>\n",
       "    </tr>\n",
       "    <tr>\n",
       "      <th>5</th>\n",
       "      <td>{'GoodForKids': 'True', 'RestaurantsTakeOut': ...</td>\n",
       "      <td>138910</td>\n",
       "      <td>Local Flavor, Chinese, Nightlife, Restaurants,...</td>\n",
       "      <td>Montréal</td>\n",
       "      <td>{'Monday': '11:30-21:0', 'Tuesday': '11:30-21:...</td>\n",
       "      <td>45.567943</td>\n",
       "      <td>-73.552666</td>\n",
       "      <td>Jardin Tiki</td>\n",
       "      <td>QC</td>\n",
       "    </tr>\n",
       "  </tbody>\n",
       "</table>\n",
       "</div>"
      ],
      "text/plain": [
       "                                          attributes  business_id  \\\n",
       "0  {'BusinessParking': '{'garage': False, 'street...       105372   \n",
       "1  {'Caters': 'True', 'GoodForKids': 'True', 'Noi...        20037   \n",
       "2  {'OutdoorSeating': 'False', 'RestaurantsGoodFo...       111668   \n",
       "3  {'WiFi': ''no'', 'GoodForKids': 'True', 'Resta...       101172   \n",
       "4  {'Alcohol': ''full_bar'', 'RestaurantsTableSer...       165961   \n",
       "5  {'GoodForKids': 'True', 'RestaurantsTakeOut': ...       138910   \n",
       "\n",
       "                                          categories        city  \\\n",
       "0                      Chinese, Dim Sum, Restaurants     Calgary   \n",
       "1                               Chinese, Restaurants     Phoenix   \n",
       "2                               Chinese, Restaurants  Scottsdale   \n",
       "3                               Chinese, Restaurants        Mesa   \n",
       "4  Dim Sum, Chinese, Tapas/Small Plates, Restaurants     Toronto   \n",
       "5  Local Flavor, Chinese, Nightlife, Restaurants,...    Montréal   \n",
       "\n",
       "                                               hours   latitude   longitude  \\\n",
       "0                                               None  51.081162 -113.993474   \n",
       "1  {'Monday': '11:0-21:0', 'Tuesday': '11:0-21:0'...  33.613020 -111.977036   \n",
       "2  {'Monday': '11:0-21:30', 'Tuesday': '11:0-21:3...  33.478754 -111.925484   \n",
       "3                                               None  33.394863 -111.756036   \n",
       "4  {'Monday': '11:30-22:30', 'Tuesday': '11:30-22...  43.646478  -79.390019   \n",
       "5  {'Monday': '11:30-21:0', 'Tuesday': '11:30-21:...  45.567943  -73.552666   \n",
       "\n",
       "                             name state  \n",
       "0                    Pearl Garden    AB  \n",
       "1    Nee House Chinese Restaurant    AZ  \n",
       "2  Yummy Yummy Chinese Restaurant    AZ  \n",
       "3                   China Gourmet    AZ  \n",
       "4                      Pearl King    ON  \n",
       "5                     Jardin Tiki    QC  "
      ]
     },
     "execution_count": 110,
     "metadata": {},
     "output_type": "execute_result"
    }
   ],
   "source": [
    "dfChineseTrain.head(6)"
   ]
  },
  {
   "cell_type": "code",
   "execution_count": 30,
   "metadata": {},
   "outputs": [
    {
     "data": {
      "text/plain": [
       "0                        Chinese, Dim Sum, Restaurants\n",
       "1                                 Chinese, Restaurants\n",
       "2                                 Chinese, Restaurants\n",
       "3                                 Chinese, Restaurants\n",
       "4    Dim Sum, Chinese, Tapas/Small Plates, Restaurants\n",
       "Name: categories, dtype: object"
      ]
     },
     "execution_count": 30,
     "metadata": {},
     "output_type": "execute_result"
    }
   ],
   "source": [
    "dfChineseTrain['categories'].head(5)"
   ]
  },
  {
   "cell_type": "markdown",
   "metadata": {},
   "source": [
    "# 2.对餐厅种类进行提取"
   ]
  },
  {
   "cell_type": "code",
   "execution_count": 39,
   "metadata": {},
   "outputs": [
    {
     "data": {
      "text/plain": [
       "'Chinese, Dim Sum, Restaurants'"
      ]
     },
     "execution_count": 39,
     "metadata": {},
     "output_type": "execute_result"
    }
   ],
   "source": [
    "tst1 = dfChineseTrain['categories'][0]\n",
    "tst1"
   ]
  },
  {
   "cell_type": "code",
   "execution_count": 44,
   "metadata": {},
   "outputs": [
    {
     "data": {
      "text/plain": [
       "'chinese,dimsum,restaurants'"
      ]
     },
     "execution_count": 44,
     "metadata": {},
     "output_type": "execute_result"
    }
   ],
   "source": [
    "cat = re.sub('\\s+|\\)','',tst1.lower())    #将空格去除，且小写化\n",
    "cat"
   ]
  },
  {
   "cell_type": "code",
   "execution_count": 45,
   "metadata": {},
   "outputs": [
    {
     "data": {
      "text/plain": [
       "['chinese', 'dimsum', 'restaurants']"
      ]
     },
     "execution_count": 45,
     "metadata": {},
     "output_type": "execute_result"
    }
   ],
   "source": [
    "cat = re.sub('&|/|\\(',',',cat).split(',')\n",
    "cat\n",
    "           "
   ]
  },
  {
   "cell_type": "code",
   "execution_count": 51,
   "metadata": {},
   "outputs": [
    {
     "data": {
      "text/plain": [
       "['dimsum', 'dimsum', 'smallplates', 'tapas', 'buffets']"
      ]
     },
     "execution_count": 51,
     "metadata": {},
     "output_type": "execute_result"
    }
   ],
   "source": [
    "chineseCatListFrame = []\n",
    "def addChineseCat(self):\n",
    "    cat = re.sub('\\s+|\\)','',self.lower())    #\n",
    "    cat = list(set(re.sub('&|/|\\(',',',cat).split(',')) - set(['restaurants', 'restaurant', 'food','chinese']))\n",
    "    chineseCatListFrame.extend(cat)\n",
    "dfChineseTrain['categories'].apply(addChineseCat)\n",
    "chineseCatListFrame[:5]"
   ]
  },
  {
   "cell_type": "code",
   "execution_count": 46,
   "metadata": {},
   "outputs": [
    {
     "data": {
      "text/plain": [
       "asianfusion      475\n",
       "dimsum           242\n",
       "thai             240\n",
       "fastfood         229\n",
       "specialtyfood    221\n",
       "japanese         209\n",
       "ethnicfood       196\n",
       "buffets          195\n",
       "seafood          182\n",
       "sushibars        168\n",
       "noodles          168\n",
       "vietnamese       114\n",
       "soup              95\n",
       "cantonese         87\n",
       "nightlife         85\n",
       "szechuan          81\n",
       "barbeque          81\n",
       "taiwanese         79\n",
       "importedfood      77\n",
       "bars              74\n",
       "dtype: int64"
      ]
     },
     "execution_count": 46,
     "metadata": {},
     "output_type": "execute_result"
    }
   ],
   "source": [
    "###和其他类型的餐厅相比，chinese的第二标签比较少，针对性更强\n",
    "pd.Series(chineseCatListFrame).value_counts()[:20]"
   ]
  },
  {
   "cell_type": "markdown",
   "metadata": {},
   "source": [
    "# 3.对餐厅属性进行提取"
   ]
  },
  {
   "cell_type": "code",
   "execution_count": 58,
   "metadata": {},
   "outputs": [
    {
     "data": {
      "text/plain": [
       "['BusinessParking',\n",
       " 'RestaurantsGoodForGroups',\n",
       " 'OutdoorSeating',\n",
       " 'RestaurantsPriceRange2',\n",
       " 'GoodForKids']"
      ]
     },
     "execution_count": 58,
     "metadata": {},
     "output_type": "execute_result"
    }
   ],
   "source": [
    "chineseAttrKeyList = []\n",
    "def getChineseKeys(self):\n",
    "    try:\n",
    "        chineseAttrKeyList.extend(self.keys())\n",
    "    except AttributeError:\n",
    "        next\n",
    "dfChineseTrain['attributes'].apply(getChineseKeys)\n",
    "pd.Series(chineseAttrKeyList).value_counts()\n",
    "validChineseAttrs = pd.Series(chineseAttrKeyList).value_counts().index[:18]\n",
    "chineseAttrKeyList[:5]\n"
   ]
  },
  {
   "cell_type": "code",
   "execution_count": 49,
   "metadata": {},
   "outputs": [
    {
     "data": {
      "text/plain": [
       "Index(['RestaurantsTakeOut', 'RestaurantsPriceRange2',\n",
       "       'RestaurantsGoodForGroups', 'GoodForKids', 'RestaurantsDelivery',\n",
       "       'RestaurantsReservations', 'RestaurantsAttire', 'OutdoorSeating',\n",
       "       'BusinessParking', 'HasTV', 'Ambience', 'Alcohol', 'NoiseLevel', 'WiFi',\n",
       "       'BikeParking', 'Caters', 'GoodForMeal', 'BusinessAcceptsCreditCards'],\n",
       "      dtype='object')"
      ]
     },
     "execution_count": 49,
     "metadata": {},
     "output_type": "execute_result"
    }
   ],
   "source": [
    "validChineseAttrs"
   ]
  },
  {
   "cell_type": "code",
   "execution_count": 145,
   "metadata": {},
   "outputs": [
    {
     "data": {
      "text/plain": [
       "(18,)"
      ]
     },
     "execution_count": 145,
     "metadata": {},
     "output_type": "execute_result"
    }
   ],
   "source": [
    "validChineseAttrs.shape"
   ]
  },
  {
   "cell_type": "markdown",
   "metadata": {},
   "source": [
    "# 4.将餐厅属性制成dataframe"
   ]
  },
  {
   "cell_type": "code",
   "execution_count": 52,
   "metadata": {},
   "outputs": [
    {
     "data": {
      "text/plain": [
       "{'BusinessParking': \"{'garage': False, 'street': False, 'validated': False, 'lot': False, 'valet': False}\",\n",
       " 'GoodForKids': 'True',\n",
       " 'OutdoorSeating': 'False',\n",
       " 'RestaurantsAttire': \"u'casual'\",\n",
       " 'RestaurantsDelivery': 'False',\n",
       " 'RestaurantsGoodForGroups': 'True',\n",
       " 'RestaurantsPriceRange2': '1',\n",
       " 'RestaurantsTakeOut': 'True'}"
      ]
     },
     "execution_count": 52,
     "metadata": {},
     "output_type": "execute_result"
    }
   ],
   "source": [
    "chineseAttrListFrame = []\n",
    "def sub_dict(dct, keys, default=None):\n",
    "    return dict([(key, dct.get(key, default)) for key in keys])\n",
    "def addChineseAttr(self):\n",
    "    try:\n",
    "        validKeys = list(set(list(self.keys())).intersection(set(validChineseAttrs)))\n",
    "        validSubDict = sub_dict(self, validKeys)\n",
    "        chineseAttrListFrame.append(validSubDict)\n",
    "    except AttributeError:\n",
    "        chineseAttrListFrame.append({})\n",
    "dfChineseTrain['attributes'].apply(addChineseAttr)\n",
    "chineseAttrListFrame[0]"
   ]
  },
  {
   "cell_type": "code",
   "execution_count": 53,
   "metadata": {},
   "outputs": [
    {
     "data": {
      "text/html": [
       "<div>\n",
       "<style scoped>\n",
       "    .dataframe tbody tr th:only-of-type {\n",
       "        vertical-align: middle;\n",
       "    }\n",
       "\n",
       "    .dataframe tbody tr th {\n",
       "        vertical-align: top;\n",
       "    }\n",
       "\n",
       "    .dataframe thead th {\n",
       "        text-align: right;\n",
       "    }\n",
       "</style>\n",
       "<table border=\"1\" class=\"dataframe\">\n",
       "  <thead>\n",
       "    <tr style=\"text-align: right;\">\n",
       "      <th></th>\n",
       "      <th>Alcohol</th>\n",
       "      <th>Ambience</th>\n",
       "      <th>BikeParking</th>\n",
       "      <th>BusinessAcceptsCreditCards</th>\n",
       "      <th>BusinessParking</th>\n",
       "      <th>Caters</th>\n",
       "      <th>GoodForKids</th>\n",
       "      <th>GoodForMeal</th>\n",
       "      <th>HasTV</th>\n",
       "      <th>NoiseLevel</th>\n",
       "      <th>OutdoorSeating</th>\n",
       "      <th>RestaurantsAttire</th>\n",
       "      <th>RestaurantsDelivery</th>\n",
       "      <th>RestaurantsGoodForGroups</th>\n",
       "      <th>RestaurantsPriceRange2</th>\n",
       "      <th>RestaurantsReservations</th>\n",
       "      <th>RestaurantsTakeOut</th>\n",
       "      <th>WiFi</th>\n",
       "    </tr>\n",
       "  </thead>\n",
       "  <tbody>\n",
       "    <tr>\n",
       "      <th>0</th>\n",
       "      <td>NaN</td>\n",
       "      <td>NaN</td>\n",
       "      <td>NaN</td>\n",
       "      <td>NaN</td>\n",
       "      <td>{'garage': False, 'street': False, 'validated'...</td>\n",
       "      <td>NaN</td>\n",
       "      <td>True</td>\n",
       "      <td>NaN</td>\n",
       "      <td>NaN</td>\n",
       "      <td>NaN</td>\n",
       "      <td>False</td>\n",
       "      <td>u'casual'</td>\n",
       "      <td>False</td>\n",
       "      <td>True</td>\n",
       "      <td>1</td>\n",
       "      <td>NaN</td>\n",
       "      <td>True</td>\n",
       "      <td>NaN</td>\n",
       "    </tr>\n",
       "    <tr>\n",
       "      <th>1</th>\n",
       "      <td>'beer_and_wine'</td>\n",
       "      <td>{'romantic': False, 'intimate': False, 'touris...</td>\n",
       "      <td>True</td>\n",
       "      <td>True</td>\n",
       "      <td>{'garage': False, 'street': False, 'validated'...</td>\n",
       "      <td>True</td>\n",
       "      <td>True</td>\n",
       "      <td>{'dessert': False, 'latenight': False, 'lunch'...</td>\n",
       "      <td>False</td>\n",
       "      <td>u'average'</td>\n",
       "      <td>False</td>\n",
       "      <td>'casual'</td>\n",
       "      <td>False</td>\n",
       "      <td>True</td>\n",
       "      <td>2</td>\n",
       "      <td>True</td>\n",
       "      <td>True</td>\n",
       "      <td>u'no'</td>\n",
       "    </tr>\n",
       "    <tr>\n",
       "      <th>2</th>\n",
       "      <td>u'none'</td>\n",
       "      <td>{'romantic': False, 'intimate': False, 'touris...</td>\n",
       "      <td>True</td>\n",
       "      <td>True</td>\n",
       "      <td>{'garage': False, 'street': False, 'validated'...</td>\n",
       "      <td>True</td>\n",
       "      <td>True</td>\n",
       "      <td>NaN</td>\n",
       "      <td>True</td>\n",
       "      <td>'average'</td>\n",
       "      <td>False</td>\n",
       "      <td>u'casual'</td>\n",
       "      <td>True</td>\n",
       "      <td>False</td>\n",
       "      <td>1</td>\n",
       "      <td>False</td>\n",
       "      <td>True</td>\n",
       "      <td>u'no'</td>\n",
       "    </tr>\n",
       "    <tr>\n",
       "      <th>3</th>\n",
       "      <td>NaN</td>\n",
       "      <td>NaN</td>\n",
       "      <td>False</td>\n",
       "      <td>True</td>\n",
       "      <td>{'garage': False, 'street': False, 'validated'...</td>\n",
       "      <td>NaN</td>\n",
       "      <td>True</td>\n",
       "      <td>NaN</td>\n",
       "      <td>NaN</td>\n",
       "      <td>u'quiet'</td>\n",
       "      <td>False</td>\n",
       "      <td>'casual'</td>\n",
       "      <td>True</td>\n",
       "      <td>True</td>\n",
       "      <td>1</td>\n",
       "      <td>False</td>\n",
       "      <td>True</td>\n",
       "      <td>'no'</td>\n",
       "    </tr>\n",
       "    <tr>\n",
       "      <th>4</th>\n",
       "      <td>'full_bar'</td>\n",
       "      <td>{'romantic': False, 'intimate': False, 'classy...</td>\n",
       "      <td>True</td>\n",
       "      <td>NaN</td>\n",
       "      <td>{'garage': False, 'street': True, 'validated':...</td>\n",
       "      <td>True</td>\n",
       "      <td>True</td>\n",
       "      <td>{'dessert': False, 'latenight': False, 'lunch'...</td>\n",
       "      <td>True</td>\n",
       "      <td>'average'</td>\n",
       "      <td>True</td>\n",
       "      <td>'casual'</td>\n",
       "      <td>False</td>\n",
       "      <td>True</td>\n",
       "      <td>2</td>\n",
       "      <td>True</td>\n",
       "      <td>True</td>\n",
       "      <td>u'free'</td>\n",
       "    </tr>\n",
       "  </tbody>\n",
       "</table>\n",
       "</div>"
      ],
      "text/plain": [
       "           Alcohol                                           Ambience  \\\n",
       "0              NaN                                                NaN   \n",
       "1  'beer_and_wine'  {'romantic': False, 'intimate': False, 'touris...   \n",
       "2          u'none'  {'romantic': False, 'intimate': False, 'touris...   \n",
       "3              NaN                                                NaN   \n",
       "4       'full_bar'  {'romantic': False, 'intimate': False, 'classy...   \n",
       "\n",
       "  BikeParking BusinessAcceptsCreditCards  \\\n",
       "0         NaN                        NaN   \n",
       "1        True                       True   \n",
       "2        True                       True   \n",
       "3       False                       True   \n",
       "4        True                        NaN   \n",
       "\n",
       "                                     BusinessParking Caters GoodForKids  \\\n",
       "0  {'garage': False, 'street': False, 'validated'...    NaN        True   \n",
       "1  {'garage': False, 'street': False, 'validated'...   True        True   \n",
       "2  {'garage': False, 'street': False, 'validated'...   True        True   \n",
       "3  {'garage': False, 'street': False, 'validated'...    NaN        True   \n",
       "4  {'garage': False, 'street': True, 'validated':...   True        True   \n",
       "\n",
       "                                         GoodForMeal  HasTV  NoiseLevel  \\\n",
       "0                                                NaN    NaN         NaN   \n",
       "1  {'dessert': False, 'latenight': False, 'lunch'...  False  u'average'   \n",
       "2                                                NaN   True   'average'   \n",
       "3                                                NaN    NaN    u'quiet'   \n",
       "4  {'dessert': False, 'latenight': False, 'lunch'...   True   'average'   \n",
       "\n",
       "  OutdoorSeating RestaurantsAttire RestaurantsDelivery  \\\n",
       "0          False         u'casual'               False   \n",
       "1          False          'casual'               False   \n",
       "2          False         u'casual'                True   \n",
       "3          False          'casual'                True   \n",
       "4           True          'casual'               False   \n",
       "\n",
       "  RestaurantsGoodForGroups RestaurantsPriceRange2 RestaurantsReservations  \\\n",
       "0                     True                      1                     NaN   \n",
       "1                     True                      2                    True   \n",
       "2                    False                      1                   False   \n",
       "3                     True                      1                   False   \n",
       "4                     True                      2                    True   \n",
       "\n",
       "  RestaurantsTakeOut     WiFi  \n",
       "0               True      NaN  \n",
       "1               True    u'no'  \n",
       "2               True    u'no'  \n",
       "3               True     'no'  \n",
       "4               True  u'free'  "
      ]
     },
     "execution_count": 53,
     "metadata": {},
     "output_type": "execute_result"
    }
   ],
   "source": [
    "dfchineseAttrFrame = pd.DataFrame.from_records(chineseAttrListFrame)\n",
    "dfchineseAttrFrame.head(5)"
   ]
  },
  {
   "cell_type": "markdown",
   "metadata": {},
   "source": [
    "# 5.逐属性检索各餐厅是否有,并返回value"
   ]
  },
  {
   "cell_type": "code",
   "execution_count": 54,
   "metadata": {},
   "outputs": [],
   "source": [
    "def getAttrs(x, attr):\n",
    "    try:\n",
    "        return x.get(attr, '')\n",
    "    except AttributeError:\n",
    "        return ''                      #检索是否有错误"
   ]
  },
  {
   "cell_type": "code",
   "execution_count": 63,
   "metadata": {},
   "outputs": [
    {
     "data": {
      "text/plain": [
       "['True',\n",
       " 'True',\n",
       " 'True',\n",
       " 'True',\n",
       " 'True',\n",
       " 'True',\n",
       " 'True',\n",
       " 'True',\n",
       " 'True',\n",
       " 'True',\n",
       " 'True',\n",
       " 'True',\n",
       " 'True',\n",
       " 'True',\n",
       " 'True',\n",
       " 'True',\n",
       " 'True',\n",
       " 'True',\n",
       " 'True',\n",
       " 'True',\n",
       " 'True',\n",
       " 'True',\n",
       " 'True',\n",
       " 'True',\n",
       " 'True',\n",
       " 'True',\n",
       " 'True',\n",
       " 'False',\n",
       " 'True',\n",
       " 'True',\n",
       " 'True',\n",
       " 'True',\n",
       " 'True',\n",
       " 'True',\n",
       " '',\n",
       " 'True',\n",
       " 'True',\n",
       " 'True',\n",
       " 'True',\n",
       " 'True']"
      ]
     },
     "execution_count": 63,
     "metadata": {},
     "output_type": "execute_result"
    }
   ],
   "source": [
    "takeoutList = [getAttrs(x, 'RestaurantsTakeOut') for x in chineseAttrListFrame]\n",
    "takeoutList[:40]"
   ]
  },
  {
   "cell_type": "code",
   "execution_count": 64,
   "metadata": {},
   "outputs": [
    {
     "data": {
      "text/plain": [
       "True     3142\n",
       "          316\n",
       "False      97\n",
       "None        2\n",
       "dtype: int64"
      ]
     },
     "execution_count": 64,
     "metadata": {},
     "output_type": "execute_result"
    }
   ],
   "source": [
    "pd.Series(takeoutList).value_counts()"
   ]
  },
  {
   "cell_type": "code",
   "execution_count": 65,
   "metadata": {},
   "outputs": [
    {
     "data": {
      "text/plain": [
       "         1777\n",
       "True     1730\n",
       "False      47\n",
       "None        3\n",
       "dtype: int64"
      ]
     },
     "execution_count": 65,
     "metadata": {},
     "output_type": "execute_result"
    }
   ],
   "source": [
    "takeoutList = [getAttrs(x, 'RestaurantsTakeOut') for x in chineseAttrListFrame]\n",
    "###空白表示有5000+家店是没有takeout记录的，None表示有45家店takeout记录显示为None？？？\n",
    "pd.Series(takeoutList).value_counts()\n",
    "priceList = [getAttrs(x, 'RestaurantsPriceRange2') for x in chineseAttrListFrame]\n",
    "pd.Series(priceList).value_counts()\n",
    "good4groupList = [getAttrs(x, 'RestaurantsGoodForGroups') for x in chineseAttrListFrame]\n",
    "pd.Series(good4groupList).value_counts()\n",
    "good4kidsList = [getAttrs(x, 'GoodForKids') for x in chineseAttrListFrame]\n",
    "pd.Series(good4kidsList).value_counts()\n",
    "reserveList = [getAttrs(x, 'RestaurantsReservations') for x in chineseAttrListFrame]\n",
    "pd.Series(reserveList).value_counts()\n",
    "deliverList = [getAttrs(x, 'RestaurantsDelivery') for x in chineseAttrListFrame]\n",
    "pd.Series(deliverList).value_counts()\n",
    "outdoorseatList = [getAttrs(x, 'OutdoorSeating') for x in chineseAttrListFrame]\n",
    "pd.Series(outdoorseatList).value_counts()\n",
    "tvList = [getAttrs(x, 'HasTV') for x in chineseAttrListFrame]\n",
    "pd.Series(tvList).value_counts()\n",
    "bikeparkList = [getAttrs(x, 'BikeParking') for x in chineseAttrListFrame]\n",
    "pd.Series(bikeparkList).value_counts()\n",
    "catersList = [getAttrs(x, 'Caters') for x in chineseAttrListFrame]\n",
    "pd.Series(catersList).value_counts()\n",
    "cardsList = [getAttrs(x, 'BusinessAcceptsCreditCards') for x in chineseAttrListFrame]\n",
    "pd.Series(cardsList).value_counts()"
   ]
  },
  {
   "cell_type": "code",
   "execution_count": 67,
   "metadata": {},
   "outputs": [
    {
     "data": {
      "text/plain": [
       "                                                                                                                1760\n",
       "{'dessert': False, 'latenight': False, 'lunch': True, 'dinner': True, 'brunch': False, 'breakfast': False}       761\n",
       "{'dessert': False, 'latenight': False, 'lunch': False, 'dinner': False, 'brunch': False, 'breakfast': False}     439\n",
       "{'dessert': False, 'latenight': False, 'lunch': True, 'dinner': False, 'brunch': False, 'breakfast': False}      219\n",
       "{'dessert': False, 'latenight': False, 'lunch': False, 'dinner': True, 'brunch': False, 'breakfast': False}      109\n",
       "dtype: int64"
      ]
     },
     "execution_count": 67,
     "metadata": {},
     "output_type": "execute_result"
    }
   ],
   "source": [
    "###下列这几个是有大小写及元字符的问题，修改一下就好，值得关注的是应该分几级\n",
    "def removeUnicode(self):\n",
    "    try:\n",
    "        return re.sub('u|\\'','',self)\n",
    "    except TypeError:\n",
    "        return None\n",
    "\n",
    "clothList = [getAttrs(x, 'RestaurantsAttire') for x in chineseAttrListFrame]\n",
    "pd.Series(clothList).value_counts()\n",
    "dfchineseAttrFrame['RestaurantsAttire'] = dfchineseAttrFrame['RestaurantsAttire'].apply(removeUnicode)\n",
    "alcoholList = [getAttrs(x, 'Alcohol') for x in chineseAttrListFrame]\n",
    "pd.Series(alcoholList).value_counts()\n",
    "dfchineseAttrFrame['Alcohol'] = dfchineseAttrFrame['Alcohol'].apply(removeUnicode)\n",
    "noiseList = [getAttrs(x, 'NoiseLevel') for x in chineseAttrListFrame]\n",
    "pd.Series(noiseList).value_counts()\n",
    "dfchineseAttrFrame['NoiseLevel'] = dfchineseAttrFrame['NoiseLevel'].apply(removeUnicode)\n",
    "wifiList = [getAttrs(x, 'WiFi') for x in chineseAttrListFrame]\n",
    "pd.Series(wifiList).value_counts()\n",
    "dfchineseAttrFrame['WiFi'] = dfchineseAttrFrame['WiFi'].apply(removeUnicode)\n",
    "\n",
    "carparkList = [getAttrs(x, 'BusinessParking') for x in chineseAttrListFrame]\n",
    "pd.Series(carparkList).value_counts()\n",
    "ambienceList = [getAttrs(x, 'Ambience') for x in chineseAttrListFrame]\n",
    "pd.Series(ambienceList).value_counts()\n",
    "good4mealList = [getAttrs(x, 'GoodForMeal') for x in chineseAttrListFrame]\n",
    "pd.Series(good4mealList).value_counts().head()"
   ]
  },
  {
   "cell_type": "markdown",
   "metadata": {},
   "source": [
    "## 处理属性中的parking"
   ]
  },
  {
   "cell_type": "code",
   "execution_count": 70,
   "metadata": {},
   "outputs": [
    {
     "data": {
      "text/plain": [
       "[0, 1, 1, 0, 1, None, 1, 1, 1, 0]"
      ]
     },
     "execution_count": 70,
     "metadata": {},
     "output_type": "execute_result"
    }
   ],
   "source": [
    "##处理park数据\n",
    "def carCan(x):\n",
    "    result = ''\n",
    "    if x[1] == True:\n",
    "        result = x[0]\n",
    "    return result\n",
    "\n",
    "def carFriend(self):\n",
    "    try:\n",
    "        canList = list(set([carCan(x) for x in list(eval(self).items())]) - set(['']))\n",
    "        if len(canList)>0:\n",
    "            if len(set(canList) - set(['lot','street']))>0:\n",
    "                return 2\n",
    "            else:\n",
    "                return 1\n",
    "        else:\n",
    "            return 0\n",
    "    except AttributeError:\n",
    "        return None\n",
    "    except SyntaxError:\n",
    "        return None\n",
    "###得到carFriendList\n",
    "carFriendList = list(map(carFriend, carparkList))\n",
    "pd.Series(carFriendList).value_counts()\n",
    "dfchineseAttrFrame['BusinessParking'] = carFriendList\n",
    "carFriendList[:10]"
   ]
  },
  {
   "cell_type": "markdown",
   "metadata": {},
   "source": [
    "# 6.处理hours"
   ]
  },
  {
   "cell_type": "code",
   "execution_count": 71,
   "metadata": {},
   "outputs": [
    {
     "data": {
      "text/plain": [
       "0                                                 None\n",
       "1    {'Monday': '11:0-21:0', 'Tuesday': '11:0-21:0'...\n",
       "2    {'Monday': '11:0-21:30', 'Tuesday': '11:0-21:3...\n",
       "3                                                 None\n",
       "4    {'Monday': '11:30-22:30', 'Tuesday': '11:30-22...\n",
       "Name: hours, dtype: object"
      ]
     },
     "execution_count": 71,
     "metadata": {},
     "output_type": "execute_result"
    }
   ],
   "source": [
    "##处理hours\n",
    "dfChineseTrain['hours'].head(5)"
   ]
  },
  {
   "cell_type": "code",
   "execution_count": 72,
   "metadata": {},
   "outputs": [
    {
     "data": {
      "text/plain": [
       "7.0    2033\n",
       "6.0     456\n",
       "5.0      42\n",
       "1.0       3\n",
       "2.0       3\n",
       "3.0       2\n",
       "4.0       1\n",
       "dtype: int64"
      ]
     },
     "execution_count": 72,
     "metadata": {},
     "output_type": "execute_result"
    }
   ],
   "source": [
    "\n",
    "###天数？\n",
    "daysList = []\n",
    "def checkDays(self):\n",
    "    try:\n",
    "        daysList.append(len(self.keys()))\n",
    "    except AttributeError:\n",
    "        daysList.append(None)\n",
    "dfChineseTrain['hours'].apply(checkDays)\n",
    "###可以发现大部分都是5天以上的，我认为在这里依据天数进行划分是没有意义的\n",
    "pd.Series(daysList).value_counts()\n",
    "\n"
   ]
  },
  {
   "cell_type": "code",
   "execution_count": 74,
   "metadata": {},
   "outputs": [
    {
     "data": {
      "text/plain": [
       "0    None\n",
       "1    None\n",
       "2    None\n",
       "3    None\n",
       "4    None\n",
       "5    None\n",
       "6    None\n",
       "7    None\n",
       "8    None\n",
       "9    None\n",
       "Name: hours, dtype: object"
      ]
     },
     "execution_count": 74,
     "metadata": {},
     "output_type": "execute_result"
    }
   ],
   "source": [
    "###时间段？\n",
    "hoursList = []\n",
    "def checkHours(self):\n",
    "    try:\n",
    "        hoursList.append(list(self.values()))\n",
    "    except AttributeError:\n",
    "        hoursList.append(None)\n",
    "dfChineseTrain['hours'].apply(checkHours)[:10]"
   ]
  },
  {
   "cell_type": "code",
   "execution_count": 136,
   "metadata": {},
   "outputs": [
    {
     "data": {
      "text/plain": [
       "[None,\n",
       " ['11:0-21:0',\n",
       "  '11:0-21:0',\n",
       "  '11:0-21:0',\n",
       "  '11:0-21:0',\n",
       "  '11:0-21:30',\n",
       "  '11:0-21:30',\n",
       "  '11:0-21:30'],\n",
       " ['11:0-21:30',\n",
       "  '11:0-21:30',\n",
       "  '11:0-21:30',\n",
       "  '11:0-21:30',\n",
       "  '11:0-22:0',\n",
       "  '11:0-22:0',\n",
       "  '11:0-21:30'],\n",
       " None,\n",
       " ['11:30-22:30',\n",
       "  '11:30-22:30',\n",
       "  '11:30-22:30',\n",
       "  '11:30-22:30',\n",
       "  '11:30-22:30',\n",
       "  '11:30-22:30',\n",
       "  '11:30-22:30'],\n",
       " ['11:30-21:0',\n",
       "  '11:30-21:0',\n",
       "  '11:30-21:0',\n",
       "  '11:30-21:0',\n",
       "  '11:30-23:0',\n",
       "  '11:30-23:0',\n",
       "  '11:30-21:0'],\n",
       " ['0:0-0:0',\n",
       "  '11:0-19:0',\n",
       "  '11:0-21:30',\n",
       "  '11:0-21:30',\n",
       "  '11:0-22:0',\n",
       "  '11:0-22:0',\n",
       "  '11:0-21:0']]"
      ]
     },
     "execution_count": 136,
     "metadata": {},
     "output_type": "execute_result"
    }
   ],
   "source": [
    "hoursList[:7]"
   ]
  },
  {
   "cell_type": "code",
   "execution_count": 87,
   "metadata": {},
   "outputs": [
    {
     "data": {
      "text/plain": [
       "['11:0', '21:30']"
      ]
     },
     "execution_count": 87,
     "metadata": {},
     "output_type": "execute_result"
    }
   ],
   "source": [
    "tst2 = hoursList[2]\n",
    "openTime = pd.to_datetime(tst2[0].split('-')[0], format=\"%H:%M\")\n",
    "tst2[0].split('-')"
   ]
  },
  {
   "cell_type": "code",
   "execution_count": 88,
   "metadata": {},
   "outputs": [
    {
     "data": {
      "text/plain": [
       "Timestamp('1900-01-01 21:30:00')"
      ]
     },
     "execution_count": 88,
     "metadata": {},
     "output_type": "execute_result"
    }
   ],
   "source": [
    "closeTime = pd.to_datetime(tst2[0].split('-')[1], format=\"%H:%M\")\n",
    "closeTime"
   ]
  },
  {
   "cell_type": "code",
   "execution_count": 89,
   "metadata": {},
   "outputs": [
    {
     "data": {
      "text/plain": [
       "10.5"
      ]
     },
     "execution_count": 89,
     "metadata": {},
     "output_type": "execute_result"
    }
   ],
   "source": [
    "(closeTime - openTime).seconds/3600"
   ]
  },
  {
   "cell_type": "code",
   "execution_count": 90,
   "metadata": {},
   "outputs": [
    {
     "data": {
      "text/plain": [
       "[None, 10.0, 10.5, None, 11.0]"
      ]
     },
     "execution_count": 90,
     "metadata": {},
     "output_type": "execute_result"
    }
   ],
   "source": [
    "###计算时间段长度，这里只取第一天的长度\n",
    "def calcuHours(self):\n",
    "    try:\n",
    "        openTime = pd.to_datetime(self[0].split('-')[0], format=\"%H:%M\")\n",
    "        closeTime = pd.to_datetime(self[0].split('-')[1], format=\"%H:%M\")\n",
    "        return (closeTime - openTime).seconds/3600\n",
    "    except TypeError:\n",
    "        return None\n",
    "\n",
    "hoursRange = list(map(calcuHours, hoursList))\n",
    "hoursRange[:5]"
   ]
  },
  {
   "cell_type": "code",
   "execution_count": 109,
   "metadata": {},
   "outputs": [
    {
     "data": {
      "text/plain": [
       "11.0    537\n",
       "10.5    361\n",
       "10.0    358\n",
       "12.0    224\n",
       "11.5    179\n",
       "0.0     125\n",
       "dtype: int64"
      ]
     },
     "execution_count": 109,
     "metadata": {},
     "output_type": "execute_result"
    }
   ],
   "source": [
    "pd.Series(hoursRange).value_counts().head(6)   #注意到营业0时的饭店有125家"
   ]
  },
  {
   "cell_type": "code",
   "execution_count": 135,
   "metadata": {},
   "outputs": [
    {
     "data": {
      "text/plain": [
       "0     NaN\n",
       "1    10.0\n",
       "2    10.5\n",
       "3     NaN\n",
       "4    11.0\n",
       "5     9.5\n",
       "6     0.0\n",
       "dtype: float64"
      ]
     },
     "execution_count": 135,
     "metadata": {},
     "output_type": "execute_result"
    }
   ],
   "source": [
    "pd.Series(hoursRange)[:7]    #index 6"
   ]
  },
  {
   "cell_type": "code",
   "execution_count": 137,
   "metadata": {},
   "outputs": [
    {
     "data": {
      "text/plain": [
       "['0:0-0:0',\n",
       " '11:0-19:0',\n",
       " '11:0-21:30',\n",
       " '11:0-21:30',\n",
       " '11:0-22:0',\n",
       " '11:0-22:0',\n",
       " '11:0-21:0']"
      ]
     },
     "execution_count": 137,
     "metadata": {},
     "output_type": "execute_result"
    }
   ],
   "source": [
    "hoursList[6]    #问题来了"
   ]
  },
  {
   "cell_type": "code",
   "execution_count": 94,
   "metadata": {},
   "outputs": [
    {
     "data": {
      "text/plain": [
       "count    2540.000000\n",
       "mean       10.049278\n",
       "std         3.306043\n",
       "min         0.000000\n",
       "25%        10.000000\n",
       "dtype: float64"
      ]
     },
     "execution_count": 94,
     "metadata": {},
     "output_type": "execute_result"
    }
   ],
   "source": [
    "pd.Series(hoursRange).describe().head()\n"
   ]
  },
  {
   "cell_type": "code",
   "execution_count": 95,
   "metadata": {},
   "outputs": [
    {
     "data": {
      "text/plain": [
       "92"
      ]
     },
     "execution_count": 95,
     "metadata": {},
     "output_type": "execute_result"
    }
   ],
   "source": [
    "###这里最好画个图吧，我的air不行了\n",
    "###大于15小时，昼夜餐厅\n",
    "len((np.where(pd.Series(hoursRange)>=15))[0])\n"
   ]
  },
  {
   "cell_type": "code",
   "execution_count": 96,
   "metadata": {},
   "outputs": [
    {
     "data": {
      "text/plain": [
       "357"
      ]
     },
     "execution_count": 96,
     "metadata": {},
     "output_type": "execute_result"
    }
   ],
   "source": [
    "###小于6小时，特殊营业餐厅\n",
    "len((np.where(pd.Series(hoursRange)<=6))[0])"
   ]
  },
  {
   "cell_type": "code",
   "execution_count": 138,
   "metadata": {},
   "outputs": [],
   "source": [
    "def cateHours(self):\n",
    "    type = 'all_day'\n",
    "    try:\n",
    "        openTime = pd.to_datetime(self[0].split('-')[0], format=\"%H:%M\")\n",
    "        closeTime = pd.to_datetime(self[0].split('-')[1], format=\"%H:%M\")\n",
    "        range = (closeTime - openTime).seconds/3600\n",
    "        if range > 15:\n",
    "            type = '24_hours'\n",
    "        if range < 6:\n",
    "            if closeTime < pd.to_datetime('15:00', format=\"%H:%M\"):\n",
    "                type = 'brunch'\n",
    "            else:\n",
    "                type = 'dinner'\n",
    "    except TypeError:\n",
    "        type = None\n",
    "    return type\n",
    "hoursCate = list(map(cateHours, hoursList))\n",
    "pd.Series(hoursCate).value_counts()\n",
    "dfChineseTrain['hours'] = hoursCate"
   ]
  },
  {
   "cell_type": "code",
   "execution_count": 141,
   "metadata": {},
   "outputs": [
    {
     "data": {
      "text/plain": [
       "[None, 'all_day', 'all_day', None, 'all_day']"
      ]
     },
     "execution_count": 141,
     "metadata": {},
     "output_type": "execute_result"
    }
   ],
   "source": [
    "hoursCate[:5]"
   ]
  },
  {
   "cell_type": "markdown",
   "metadata": {},
   "source": [
    "# 7.合并上述改动"
   ]
  },
  {
   "cell_type": "code",
   "execution_count": 142,
   "metadata": {},
   "outputs": [],
   "source": [
    "##最后得到处理过后的dfchineseAttrFrame，删掉了'Ambience', 'GoodForMeal'，同时与删掉了'attributes', 'categories','latitude','longitude'\n",
    "##的dfChineseTrain进行合并\n",
    "dfchineseAttrFrameMerge = dfchineseAttrFrame.drop(['Ambience', 'GoodForMeal'],axis=1)   \n",
    "dfChineseTrainMerge = dfChineseTrain.drop(['attributes', 'categories','latitude','longitude'],axis=1)\n",
    "dfChineseBusMerge = pd.concat([dfChineseTrainMerge, dfchineseAttrFrameMerge], axis=1)"
   ]
  },
  {
   "cell_type": "code",
   "execution_count": 143,
   "metadata": {},
   "outputs": [
    {
     "data": {
      "text/html": [
       "<div>\n",
       "<style scoped>\n",
       "    .dataframe tbody tr th:only-of-type {\n",
       "        vertical-align: middle;\n",
       "    }\n",
       "\n",
       "    .dataframe tbody tr th {\n",
       "        vertical-align: top;\n",
       "    }\n",
       "\n",
       "    .dataframe thead th {\n",
       "        text-align: right;\n",
       "    }\n",
       "</style>\n",
       "<table border=\"1\" class=\"dataframe\">\n",
       "  <thead>\n",
       "    <tr style=\"text-align: right;\">\n",
       "      <th></th>\n",
       "      <th>business_id</th>\n",
       "      <th>city</th>\n",
       "      <th>hours</th>\n",
       "      <th>name</th>\n",
       "      <th>state</th>\n",
       "      <th>Alcohol</th>\n",
       "      <th>BikeParking</th>\n",
       "      <th>BusinessAcceptsCreditCards</th>\n",
       "      <th>BusinessParking</th>\n",
       "      <th>Caters</th>\n",
       "      <th>...</th>\n",
       "      <th>HasTV</th>\n",
       "      <th>NoiseLevel</th>\n",
       "      <th>OutdoorSeating</th>\n",
       "      <th>RestaurantsAttire</th>\n",
       "      <th>RestaurantsDelivery</th>\n",
       "      <th>RestaurantsGoodForGroups</th>\n",
       "      <th>RestaurantsPriceRange2</th>\n",
       "      <th>RestaurantsReservations</th>\n",
       "      <th>RestaurantsTakeOut</th>\n",
       "      <th>WiFi</th>\n",
       "    </tr>\n",
       "  </thead>\n",
       "  <tbody>\n",
       "    <tr>\n",
       "      <th>0</th>\n",
       "      <td>105372</td>\n",
       "      <td>Calgary</td>\n",
       "      <td>None</td>\n",
       "      <td>Pearl Garden</td>\n",
       "      <td>AB</td>\n",
       "      <td>None</td>\n",
       "      <td>NaN</td>\n",
       "      <td>NaN</td>\n",
       "      <td>0.0</td>\n",
       "      <td>NaN</td>\n",
       "      <td>...</td>\n",
       "      <td>NaN</td>\n",
       "      <td>None</td>\n",
       "      <td>False</td>\n",
       "      <td>casal</td>\n",
       "      <td>False</td>\n",
       "      <td>True</td>\n",
       "      <td>1</td>\n",
       "      <td>NaN</td>\n",
       "      <td>True</td>\n",
       "      <td>None</td>\n",
       "    </tr>\n",
       "    <tr>\n",
       "      <th>1</th>\n",
       "      <td>20037</td>\n",
       "      <td>Phoenix</td>\n",
       "      <td>all_day</td>\n",
       "      <td>Nee House Chinese Restaurant</td>\n",
       "      <td>AZ</td>\n",
       "      <td>beer_and_wine</td>\n",
       "      <td>True</td>\n",
       "      <td>True</td>\n",
       "      <td>1.0</td>\n",
       "      <td>True</td>\n",
       "      <td>...</td>\n",
       "      <td>False</td>\n",
       "      <td>average</td>\n",
       "      <td>False</td>\n",
       "      <td>casal</td>\n",
       "      <td>False</td>\n",
       "      <td>True</td>\n",
       "      <td>2</td>\n",
       "      <td>True</td>\n",
       "      <td>True</td>\n",
       "      <td>no</td>\n",
       "    </tr>\n",
       "    <tr>\n",
       "      <th>2</th>\n",
       "      <td>111668</td>\n",
       "      <td>Scottsdale</td>\n",
       "      <td>all_day</td>\n",
       "      <td>Yummy Yummy Chinese Restaurant</td>\n",
       "      <td>AZ</td>\n",
       "      <td>none</td>\n",
       "      <td>True</td>\n",
       "      <td>True</td>\n",
       "      <td>1.0</td>\n",
       "      <td>True</td>\n",
       "      <td>...</td>\n",
       "      <td>True</td>\n",
       "      <td>average</td>\n",
       "      <td>False</td>\n",
       "      <td>casal</td>\n",
       "      <td>True</td>\n",
       "      <td>False</td>\n",
       "      <td>1</td>\n",
       "      <td>False</td>\n",
       "      <td>True</td>\n",
       "      <td>no</td>\n",
       "    </tr>\n",
       "    <tr>\n",
       "      <th>3</th>\n",
       "      <td>101172</td>\n",
       "      <td>Mesa</td>\n",
       "      <td>None</td>\n",
       "      <td>China Gourmet</td>\n",
       "      <td>AZ</td>\n",
       "      <td>None</td>\n",
       "      <td>False</td>\n",
       "      <td>True</td>\n",
       "      <td>0.0</td>\n",
       "      <td>NaN</td>\n",
       "      <td>...</td>\n",
       "      <td>NaN</td>\n",
       "      <td>qiet</td>\n",
       "      <td>False</td>\n",
       "      <td>casal</td>\n",
       "      <td>True</td>\n",
       "      <td>True</td>\n",
       "      <td>1</td>\n",
       "      <td>False</td>\n",
       "      <td>True</td>\n",
       "      <td>no</td>\n",
       "    </tr>\n",
       "    <tr>\n",
       "      <th>4</th>\n",
       "      <td>165961</td>\n",
       "      <td>Toronto</td>\n",
       "      <td>all_day</td>\n",
       "      <td>Pearl King</td>\n",
       "      <td>ON</td>\n",
       "      <td>fll_bar</td>\n",
       "      <td>True</td>\n",
       "      <td>NaN</td>\n",
       "      <td>1.0</td>\n",
       "      <td>True</td>\n",
       "      <td>...</td>\n",
       "      <td>True</td>\n",
       "      <td>average</td>\n",
       "      <td>True</td>\n",
       "      <td>casal</td>\n",
       "      <td>False</td>\n",
       "      <td>True</td>\n",
       "      <td>2</td>\n",
       "      <td>True</td>\n",
       "      <td>True</td>\n",
       "      <td>free</td>\n",
       "    </tr>\n",
       "  </tbody>\n",
       "</table>\n",
       "<p>5 rows × 21 columns</p>\n",
       "</div>"
      ],
      "text/plain": [
       "   business_id        city    hours                            name state  \\\n",
       "0       105372     Calgary     None                    Pearl Garden    AB   \n",
       "1        20037     Phoenix  all_day    Nee House Chinese Restaurant    AZ   \n",
       "2       111668  Scottsdale  all_day  Yummy Yummy Chinese Restaurant    AZ   \n",
       "3       101172        Mesa     None                   China Gourmet    AZ   \n",
       "4       165961     Toronto  all_day                      Pearl King    ON   \n",
       "\n",
       "         Alcohol BikeParking BusinessAcceptsCreditCards  BusinessParking  \\\n",
       "0           None         NaN                        NaN              0.0   \n",
       "1  beer_and_wine        True                       True              1.0   \n",
       "2           none        True                       True              1.0   \n",
       "3           None       False                       True              0.0   \n",
       "4        fll_bar        True                        NaN              1.0   \n",
       "\n",
       "  Caters  ...   HasTV NoiseLevel OutdoorSeating RestaurantsAttire  \\\n",
       "0    NaN  ...     NaN       None          False             casal   \n",
       "1   True  ...   False    average          False             casal   \n",
       "2   True  ...    True    average          False             casal   \n",
       "3    NaN  ...     NaN       qiet          False             casal   \n",
       "4   True  ...    True    average           True             casal   \n",
       "\n",
       "  RestaurantsDelivery RestaurantsGoodForGroups RestaurantsPriceRange2  \\\n",
       "0               False                     True                      1   \n",
       "1               False                     True                      2   \n",
       "2                True                    False                      1   \n",
       "3                True                     True                      1   \n",
       "4               False                     True                      2   \n",
       "\n",
       "  RestaurantsReservations RestaurantsTakeOut  WiFi  \n",
       "0                     NaN               True  None  \n",
       "1                    True               True    no  \n",
       "2                   False               True    no  \n",
       "3                   False               True    no  \n",
       "4                    True               True  free  \n",
       "\n",
       "[5 rows x 21 columns]"
      ]
     },
     "execution_count": 143,
     "metadata": {},
     "output_type": "execute_result"
    }
   ],
   "source": [
    "dfChineseBusMerge.head()"
   ]
  },
  {
   "cell_type": "code",
   "execution_count": 144,
   "metadata": {},
   "outputs": [
    {
     "data": {
      "text/plain": [
       "(3557, 21)"
      ]
     },
     "execution_count": 144,
     "metadata": {},
     "output_type": "execute_result"
    }
   ],
   "source": [
    "dfChineseBusMerge.shape    #21 = 18-2+5(5包括id,city,hours,name,state)"
   ]
  },
  {
   "cell_type": "markdown",
   "metadata": {},
   "source": [
    "# 8.考虑review\n"
   ]
  },
  {
   "cell_type": "code",
   "execution_count": 148,
   "metadata": {},
   "outputs": [],
   "source": [
    "# chinese_review part\n",
    "\n",
    "file = open('./rawdata/review_train.json','r')\n",
    "j2 = file.readlines()\n",
    "for i in range(len(j2)):\n",
    "    j2[i]=json.loads(j2[i])\n",
    "dfReviewTrain = pd.DataFrame.from_records(j2)\n",
    "\n"
   ]
  },
  {
   "cell_type": "code",
   "execution_count": 149,
   "metadata": {},
   "outputs": [
    {
     "data": {
      "text/html": [
       "<div>\n",
       "<style scoped>\n",
       "    .dataframe tbody tr th:only-of-type {\n",
       "        vertical-align: middle;\n",
       "    }\n",
       "\n",
       "    .dataframe tbody tr th {\n",
       "        vertical-align: top;\n",
       "    }\n",
       "\n",
       "    .dataframe thead th {\n",
       "        text-align: right;\n",
       "    }\n",
       "</style>\n",
       "<table border=\"1\" class=\"dataframe\">\n",
       "  <thead>\n",
       "    <tr style=\"text-align: right;\">\n",
       "      <th></th>\n",
       "      <th>business_id</th>\n",
       "      <th>date</th>\n",
       "      <th>stars</th>\n",
       "      <th>text</th>\n",
       "    </tr>\n",
       "  </thead>\n",
       "  <tbody>\n",
       "    <tr>\n",
       "      <th>0</th>\n",
       "      <td>31292</td>\n",
       "      <td>2013-05-07 04:34:36</td>\n",
       "      <td>1.0</td>\n",
       "      <td>Total bill for this horrible service? Over $8G...</td>\n",
       "    </tr>\n",
       "    <tr>\n",
       "      <th>1</th>\n",
       "      <td>35344</td>\n",
       "      <td>2017-01-14 21:30:33</td>\n",
       "      <td>5.0</td>\n",
       "      <td>I *adore* Travis at the Hard Rock's new Kelly ...</td>\n",
       "    </tr>\n",
       "    <tr>\n",
       "      <th>2</th>\n",
       "      <td>152538</td>\n",
       "      <td>2016-11-09 20:09:03</td>\n",
       "      <td>5.0</td>\n",
       "      <td>I have to say that this office really has it t...</td>\n",
       "    </tr>\n",
       "    <tr>\n",
       "      <th>3</th>\n",
       "      <td>71871</td>\n",
       "      <td>2018-01-09 20:56:38</td>\n",
       "      <td>5.0</td>\n",
       "      <td>Went in for a lunch. Steak sandwich was delici...</td>\n",
       "    </tr>\n",
       "    <tr>\n",
       "      <th>4</th>\n",
       "      <td>64913</td>\n",
       "      <td>2018-01-30 23:07:38</td>\n",
       "      <td>1.0</td>\n",
       "      <td>Today was my second out of three sessions I ha...</td>\n",
       "    </tr>\n",
       "  </tbody>\n",
       "</table>\n",
       "</div>"
      ],
      "text/plain": [
       "   business_id                 date  stars  \\\n",
       "0        31292  2013-05-07 04:34:36    1.0   \n",
       "1        35344  2017-01-14 21:30:33    5.0   \n",
       "2       152538  2016-11-09 20:09:03    5.0   \n",
       "3        71871  2018-01-09 20:56:38    5.0   \n",
       "4        64913  2018-01-30 23:07:38    1.0   \n",
       "\n",
       "                                                text  \n",
       "0  Total bill for this horrible service? Over $8G...  \n",
       "1  I *adore* Travis at the Hard Rock's new Kelly ...  \n",
       "2  I have to say that this office really has it t...  \n",
       "3  Went in for a lunch. Steak sandwich was delici...  \n",
       "4  Today was my second out of three sessions I ha...  "
      ]
     },
     "execution_count": 149,
     "metadata": {},
     "output_type": "execute_result"
    }
   ],
   "source": [
    "dfReviewTrain.head()"
   ]
  },
  {
   "cell_type": "markdown",
   "metadata": {},
   "source": [
    "# 我电脑卡了= ="
   ]
  },
  {
   "cell_type": "code",
   "execution_count": null,
   "metadata": {},
   "outputs": [],
   "source": [
    "##得到chinese restaurants的评论\n",
    "chineseIdList = list(chineseIdList)\n",
    "def getChinese(self):\n",
    "    if self in chineseIdList:\n",
    "        return True\n",
    "    else:\n",
    "        return False\n",
    "### !!!为什么这一行会奇慢无比？？？\n",
    "chineseReviewIndex = np.where(dfReviewTrain['business_id'].apply(getChinese))\n",
    "len(chineseReviewIndex[0])\n",
    "dfChineseReviewTrain = dfReviewTrain.iloc[resReviewIndex]\n",
    "dfChineseReviewTrain.index = range(len(dfResReviewTrain))\n",
    "dfChineseReviewTrain.head(5)\n",
    "\n",
    "\n",
    "##准备与business数据合并\n",
    "dfChineseReviewTrain = dfChineseReviewTrain.loc[:,['business_id','stars','text']]\n",
    "dfChineseFinalMerge = pd.merge(dfChineseBusMerge, dfChineseReviewTrain, on='business_id')\n",
    "len(dfChineseFinalMerge)\n",
    "dfChineseFinalMerge.head(5)\n",
    "dfChineseFinalMerge.to_csv('/Applications/Study/UWM/628/module2/chinesereview.csv')"
   ]
  }
 ],
 "metadata": {
  "kernelspec": {
   "display_name": "Python 3",
   "language": "python",
   "name": "python3"
  },
  "language_info": {
   "codemirror_mode": {
    "name": "ipython",
    "version": 3
   },
   "file_extension": ".py",
   "mimetype": "text/x-python",
   "name": "python",
   "nbconvert_exporter": "python",
   "pygments_lexer": "ipython3",
   "version": "3.6.7"
  }
 },
 "nbformat": 4,
 "nbformat_minor": 2
}
